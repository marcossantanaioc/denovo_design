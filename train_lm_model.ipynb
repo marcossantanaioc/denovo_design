{
 "cells": [
  {
   "cell_type": "code",
   "execution_count": 47,
   "metadata": {
    "gradient": {
     "editing": false,
     "execution_count": 1,
     "id": "efb2650d-01a7-466c-ad08-d34f63920b9c",
     "kernelId": ""
    }
   },
   "outputs": [
    {
     "name": "stdout",
     "output_type": "stream",
     "text": [
      "The watermark extension is already loaded. To reload it, use:\n",
      "  %reload_ext watermark\n",
      "Author: Marcos Santana\n",
      "\n",
      "Python implementation: CPython\n",
      "Python version       : 3.9.12\n",
      "IPython version      : 8.4.0\n",
      "\n",
      "fastai         : 2.7.9\n",
      "descriptastorus: 2.3.0.6\n",
      "numpy          : 1.22.3\n",
      "pandas         : 1.4.2\n",
      "torch          : 1.12.0\n",
      "joblib         : 1.1.0\n",
      "guacamol       : 0.5.4\n",
      "fastinference  : 0.0.36\n",
      "rdkit          : 2022.03.4\n",
      "tqdm           : 4.62.3\n",
      "\n"
     ]
    }
   ],
   "source": [
    "%reload_ext autoreload\n",
    "%autoreload 2\n",
    "%load_ext watermark\n",
    "%watermark -a 'Marcos Santana' -d -p fastai,descriptastorus,numpy,pandas,torch,joblib,guacamol,fastinference,rdkit,tqdm -v"
   ]
  },
  {
   "cell_type": "markdown",
   "metadata": {
    "gradient": {
     "editing": false,
     "id": "d3c9ae63-f6e9-487f-aa80-1ff85d438005",
     "kernelId": ""
    },
    "id": "YF6ZSEJtDLtx"
   },
   "source": [
    "# Dependencies and module"
   ]
  },
  {
   "cell_type": "code",
   "execution_count": 48,
   "metadata": {
    "colab": {
     "base_uri": "https://localhost:8080/"
    },
    "gradient": {
     "editing": false,
     "execution_count": 2,
     "id": "4bf851c1-d995-4d2e-8bae-67b5299059c3",
     "kernelId": ""
    },
    "id": "KPimzb265PoR",
    "outputId": "1be6f8c6-f8c3-4a31-be20-c09996f9ac30"
   },
   "outputs": [],
   "source": [
    "import pandas as pd\n",
    "import numpy as np\n",
    "\n",
    "from fastai.text.all import *\n",
    "from denovo_design.tokenizer import MolTokenizer\n",
    "from denovo_design.generative_callback import *\n",
    "\n",
    "from tqdm.notebook import trange, tqdm\n",
    "from rdkit import rdBase\n",
    "\n",
    "rdBase.DisableLog('rdApp.error')\n",
    "rdBase.DisableLog('rdApp.info')\n",
    "from rdkit.Chem import MolFromSmiles, MolToSmiles"
   ]
  },
  {
   "cell_type": "markdown",
   "metadata": {
    "gradient": {
     "editing": false,
     "id": "e2657e4f-ad1f-43b5-9845-d005ee5c2045",
     "kernelId": ""
    },
    "id": "wHrLp5sG7qI_"
   },
   "source": [
    "# Load data"
   ]
  },
  {
   "cell_type": "code",
   "execution_count": 49,
   "metadata": {
    "gradient": {
     "editing": false,
     "execution_count": 3,
     "id": "ceb3b233-9533-43cb-b4cc-67653aaec5ce",
     "kernelId": ""
    }
   },
   "outputs": [],
   "source": [
    "lm_data = pd.read_csv(f'../datasets/processed_data/chembl_30_processed.csv',compression='gzip').sample(n=10)"
   ]
  },
  {
   "cell_type": "code",
   "execution_count": 50,
   "metadata": {
    "gradient": {
     "editing": false,
     "execution_count": 4,
     "id": "ddabec62-a09a-4ba9-81f5-3ec1be9179f7",
     "kernelId": ""
    }
   },
   "outputs": [
    {
     "data": {
      "text/html": [
       "<div>\n",
       "<style scoped>\n",
       "    .dataframe tbody tr th:only-of-type {\n",
       "        vertical-align: middle;\n",
       "    }\n",
       "\n",
       "    .dataframe tbody tr th {\n",
       "        vertical-align: top;\n",
       "    }\n",
       "\n",
       "    .dataframe thead th {\n",
       "        text-align: right;\n",
       "    }\n",
       "</style>\n",
       "<table border=\"1\" class=\"dataframe\">\n",
       "  <thead>\n",
       "    <tr style=\"text-align: right;\">\n",
       "      <th></th>\n",
       "      <th>doc_id</th>\n",
       "      <th>processed_smiles</th>\n",
       "      <th>standard_value</th>\n",
       "      <th>standard_units</th>\n",
       "      <th>standard_type</th>\n",
       "      <th>standard_relation</th>\n",
       "      <th>molregno</th>\n",
       "      <th>canonical_smiles</th>\n",
       "      <th>chembl_id</th>\n",
       "      <th>tid</th>\n",
       "      <th>target_chembl_id</th>\n",
       "      <th>organism</th>\n",
       "      <th>l1</th>\n",
       "      <th>l2</th>\n",
       "      <th>l3</th>\n",
       "      <th>inchi</th>\n",
       "      <th>Stereo</th>\n",
       "      <th>duplicate</th>\n",
       "    </tr>\n",
       "  </thead>\n",
       "  <tbody>\n",
       "    <tr>\n",
       "      <th>387956</th>\n",
       "      <td>15315.0</td>\n",
       "      <td>CN[C@@H]1CCc2[nH]c3ccc(C(N)=O)cc3c2C1</td>\n",
       "      <td>10.3</td>\n",
       "      <td>nM</td>\n",
       "      <td>Ki</td>\n",
       "      <td>=</td>\n",
       "      <td>250328.0</td>\n",
       "      <td>CN[C@@H]1CCc2[nH]c3ccc(C(N)=O)cc3c2C1</td>\n",
       "      <td>CHEMBL1279</td>\n",
       "      <td>105.0</td>\n",
       "      <td>CHEMBL1983</td>\n",
       "      <td>Homo sapiens</td>\n",
       "      <td>Membrane receptor</td>\n",
       "      <td>Family A G protein-coupled receptor</td>\n",
       "      <td>Small molecule receptor (family A GPCR)</td>\n",
       "      <td>XPSQPHWEGNHMSK-SECBINFHSA-N</td>\n",
       "      <td>2_R</td>\n",
       "      <td>1.0</td>\n",
       "    </tr>\n",
       "    <tr>\n",
       "      <th>385524</th>\n",
       "      <td>82238.0</td>\n",
       "      <td>COc1ccc(F)cc1C(C)(C)CC(O)(Cc1cc2ccncc2[nH]1)C(F)(F)F</td>\n",
       "      <td>9.8</td>\n",
       "      <td>nM</td>\n",
       "      <td>IC50</td>\n",
       "      <td>=</td>\n",
       "      <td>704201.0</td>\n",
       "      <td>COc1ccc(F)cc1C(C)(C)CC(O)(Cc1cc2ccncc2[nH]1)C(F)(F)F</td>\n",
       "      <td>CHEMBL1254734</td>\n",
       "      <td>25.0</td>\n",
       "      <td>CHEMBL2034</td>\n",
       "      <td>Homo sapiens</td>\n",
       "      <td>Transcription factor</td>\n",
       "      <td>Nuclear receptor</td>\n",
       "      <td>Nuclear hormone receptor subfamily 3</td>\n",
       "      <td>DJRNAIGSFHOUFL-UHFFFAOYSA-N</td>\n",
       "      <td>13_?</td>\n",
       "      <td>1.0</td>\n",
       "    </tr>\n",
       "    <tr>\n",
       "      <th>149892</th>\n",
       "      <td>57951.0</td>\n",
       "      <td>N=C(N)C1CCC1</td>\n",
       "      <td>380.0</td>\n",
       "      <td>nM</td>\n",
       "      <td>IC50</td>\n",
       "      <td>=</td>\n",
       "      <td>1149735.0</td>\n",
       "      <td>N=C(N)C1CCC1</td>\n",
       "      <td>CHEMBL1783072</td>\n",
       "      <td>12425.0</td>\n",
       "      <td>CHEMBL4481</td>\n",
       "      <td>Homo sapiens</td>\n",
       "      <td>Enzyme</td>\n",
       "      <td>NaN</td>\n",
       "      <td>NaN</td>\n",
       "      <td>YRTJYDRUQDCJKA-UHFFFAOYSA-N</td>\n",
       "      <td>NaN</td>\n",
       "      <td>0.0</td>\n",
       "    </tr>\n",
       "    <tr>\n",
       "      <th>91250</th>\n",
       "      <td>38122.0</td>\n",
       "      <td>CNC(=O)c1cn2ncnc(Nc3cc(C(=O)NOC)ccc3C)c2c1C</td>\n",
       "      <td>23.0</td>\n",
       "      <td>nM</td>\n",
       "      <td>IC50</td>\n",
       "      <td>=</td>\n",
       "      <td>419083.0</td>\n",
       "      <td>CNC(=O)c1cn2ncnc(Nc3cc(C(=O)NOC)ccc3C)c2c1C</td>\n",
       "      <td>CHEMBL251930</td>\n",
       "      <td>10188.0</td>\n",
       "      <td>CHEMBL260</td>\n",
       "      <td>Homo sapiens</td>\n",
       "      <td>Enzyme</td>\n",
       "      <td>Kinase</td>\n",
       "      <td>Protein Kinase</td>\n",
       "      <td>GLQHXGSWFVZXAN-UHFFFAOYSA-N</td>\n",
       "      <td>NaN</td>\n",
       "      <td>0.0</td>\n",
       "    </tr>\n",
       "    <tr>\n",
       "      <th>564790</th>\n",
       "      <td>102904.0</td>\n",
       "      <td>O=C(Nc1cc(Cl)ccc1OC1CCC(O)CC1)c1cnn2cc(O)cnc12</td>\n",
       "      <td>93.0</td>\n",
       "      <td>nM</td>\n",
       "      <td>IC50</td>\n",
       "      <td>=</td>\n",
       "      <td>2148797.0</td>\n",
       "      <td>O=C(Nc1cc(Cl)ccc1OC1CCC(O)CC1)c1cnn2cc(O)cnc12</td>\n",
       "      <td>CHEMBL3939426</td>\n",
       "      <td>19631.0</td>\n",
       "      <td>CHEMBL3778</td>\n",
       "      <td>Homo sapiens</td>\n",
       "      <td>Enzyme</td>\n",
       "      <td>Kinase</td>\n",
       "      <td>Protein Kinase</td>\n",
       "      <td>WRDPDAIOMMMLNR-UHFFFAOYSA-N</td>\n",
       "      <td>11_?|14_?</td>\n",
       "      <td>1.0</td>\n",
       "    </tr>\n",
       "  </tbody>\n",
       "</table>\n",
       "</div>"
      ],
      "text/plain": [
       "          doc_id                                      processed_smiles  \\\n",
       "387956   15315.0                 CN[C@@H]1CCc2[nH]c3ccc(C(N)=O)cc3c2C1   \n",
       "385524   82238.0  COc1ccc(F)cc1C(C)(C)CC(O)(Cc1cc2ccncc2[nH]1)C(F)(F)F   \n",
       "149892   57951.0                                          N=C(N)C1CCC1   \n",
       "91250    38122.0           CNC(=O)c1cn2ncnc(Nc3cc(C(=O)NOC)ccc3C)c2c1C   \n",
       "564790  102904.0        O=C(Nc1cc(Cl)ccc1OC1CCC(O)CC1)c1cnn2cc(O)cnc12   \n",
       "\n",
       "        standard_value standard_units standard_type standard_relation  \\\n",
       "387956            10.3             nM            Ki                 =   \n",
       "385524             9.8             nM          IC50                 =   \n",
       "149892           380.0             nM          IC50                 =   \n",
       "91250             23.0             nM          IC50                 =   \n",
       "564790            93.0             nM          IC50                 =   \n",
       "\n",
       "         molregno                                      canonical_smiles  \\\n",
       "387956   250328.0                 CN[C@@H]1CCc2[nH]c3ccc(C(N)=O)cc3c2C1   \n",
       "385524   704201.0  COc1ccc(F)cc1C(C)(C)CC(O)(Cc1cc2ccncc2[nH]1)C(F)(F)F   \n",
       "149892  1149735.0                                          N=C(N)C1CCC1   \n",
       "91250    419083.0           CNC(=O)c1cn2ncnc(Nc3cc(C(=O)NOC)ccc3C)c2c1C   \n",
       "564790  2148797.0        O=C(Nc1cc(Cl)ccc1OC1CCC(O)CC1)c1cnn2cc(O)cnc12   \n",
       "\n",
       "            chembl_id      tid target_chembl_id      organism  \\\n",
       "387956     CHEMBL1279    105.0       CHEMBL1983  Homo sapiens   \n",
       "385524  CHEMBL1254734     25.0       CHEMBL2034  Homo sapiens   \n",
       "149892  CHEMBL1783072  12425.0       CHEMBL4481  Homo sapiens   \n",
       "91250    CHEMBL251930  10188.0        CHEMBL260  Homo sapiens   \n",
       "564790  CHEMBL3939426  19631.0       CHEMBL3778  Homo sapiens   \n",
       "\n",
       "                          l1                                   l2  \\\n",
       "387956     Membrane receptor  Family A G protein-coupled receptor   \n",
       "385524  Transcription factor                     Nuclear receptor   \n",
       "149892                Enzyme                                  NaN   \n",
       "91250                 Enzyme                               Kinase   \n",
       "564790                Enzyme                               Kinase   \n",
       "\n",
       "                                             l3                        inchi  \\\n",
       "387956  Small molecule receptor (family A GPCR)  XPSQPHWEGNHMSK-SECBINFHSA-N   \n",
       "385524     Nuclear hormone receptor subfamily 3  DJRNAIGSFHOUFL-UHFFFAOYSA-N   \n",
       "149892                                      NaN  YRTJYDRUQDCJKA-UHFFFAOYSA-N   \n",
       "91250                            Protein Kinase  GLQHXGSWFVZXAN-UHFFFAOYSA-N   \n",
       "564790                           Protein Kinase  WRDPDAIOMMMLNR-UHFFFAOYSA-N   \n",
       "\n",
       "           Stereo  duplicate  \n",
       "387956        2_R        1.0  \n",
       "385524       13_?        1.0  \n",
       "149892        NaN        0.0  \n",
       "91250         NaN        0.0  \n",
       "564790  11_?|14_?        1.0  "
      ]
     },
     "execution_count": 50,
     "metadata": {},
     "output_type": "execute_result"
    }
   ],
   "source": [
    "lm_data.head()"
   ]
  },
  {
   "cell_type": "code",
   "execution_count": 51,
   "metadata": {
    "colab": {
     "base_uri": "https://localhost:8080/",
     "height": 102
    },
    "gradient": {
     "editing": false,
     "execution_count": 6,
     "id": "99591cf9-7212-4c47-975a-5b78c0c4af1c",
     "kernelId": ""
    },
    "id": "rxdLDJ5I5vvj",
    "outputId": "ad6da1b7-2c37-4150-f095-d7894eb3e26f"
   },
   "outputs": [
    {
     "data": {
      "text/plain": [
       "(Path('models/finetuning'), Path('models/encoder'))"
      ]
     },
     "execution_count": 51,
     "metadata": {},
     "output_type": "execute_result"
    }
   ],
   "source": [
    "MODELS = Path('models')\n",
    "FT = Path(f'{MODELS}/finetuning')\n",
    "ENCODER = Path(f'{MODELS}/encoder')\n",
    "FT.mkdir(exist_ok=True, parents=True)\n",
    "ENCODER.mkdir(exist_ok=True, parents=True)\n",
    "FT,ENCODER"
   ]
  },
  {
   "cell_type": "markdown",
   "metadata": {
    "id": "lDRFzpVl8QtX"
   },
   "source": [
    "# Dataloader"
   ]
  },
  {
   "cell_type": "code",
   "execution_count": 52,
   "metadata": {
    "gradient": {
     "execution_count": 12,
     "id": "a86db52c-95d7-44d7-b010-821081e37c2d",
     "kernelId": ""
    }
   },
   "outputs": [],
   "source": [
    "config=awd_lstm_lm_config.copy()"
   ]
  },
  {
   "cell_type": "code",
   "execution_count": 53,
   "metadata": {
    "colab": {
     "base_uri": "https://localhost:8080/",
     "height": 17
    },
    "gradient": {
     "execution_count": 12,
     "id": "b9ca7f4d-9c42-444a-b2a8-095e4638d61b",
     "kernelId": ""
    },
    "id": "anhuqjR85vJF",
    "outputId": "5bb01d4b-5aee-4dfa-f79e-4c113d2aad74"
   },
   "outputs": [
    {
     "data": {
      "text/html": [
       "\n",
       "<style>\n",
       "    /* Turns off some styling */\n",
       "    progress {\n",
       "        /* gets rid of default border in Firefox and Opera. */\n",
       "        border: none;\n",
       "        /* Needs to be in here for Safari polyfill so background images work as expected. */\n",
       "        background-size: auto;\n",
       "    }\n",
       "    .progress-bar-interrupted, .progress-bar-interrupted::-webkit-progress-bar {\n",
       "        background: #F44336;\n",
       "    }\n",
       "</style>\n"
      ],
      "text/plain": [
       "<IPython.core.display.HTML object>"
      ]
     },
     "metadata": {},
     "output_type": "display_data"
    },
    {
     "data": {
      "text/html": [],
      "text/plain": [
       "<IPython.core.display.HTML object>"
      ]
     },
     "metadata": {},
     "output_type": "display_data"
    }
   ],
   "source": [
    "splitter = RandomSplitter(0.10)\n",
    "spec_toks = [BOS, PAD]\n",
    "text_col = 'processed_smiles'\n",
    "tfms = [attrgetter(text_col),\n",
    "        Tokenizer.from_df(text_cols=text_col,tok=MolTokenizer(),rules=[],tok_text_col=text_col),\n",
    "        Numericalize(min_freq = 1, special_toks=spec_toks)]\n",
    "dst = Datasets(lm_data, tfms=[tfms], splits = splitter(lm_data), dl_type=LMDataLoader)"
   ]
  },
  {
   "cell_type": "code",
   "execution_count": 54,
   "metadata": {
    "colab": {
     "base_uri": "https://localhost:8080/",
     "height": 50
    },
    "gradient": {
     "execution_count": 13,
     "id": "5add4113-1621-4d54-9d8f-1b36fbf97816",
     "kernelId": ""
    },
    "id": "MKijOtzv8Xsk",
    "outputId": "4d2f612b-4a20-4aab-b3a1-4f03a0cfd556"
   },
   "outputs": [],
   "source": [
    "dls = dst.dataloaders(bs=128,seq_len=30)"
   ]
  },
  {
   "cell_type": "code",
   "execution_count": 55,
   "metadata": {
    "gradient": {
     "execution_count": 14,
     "id": "368a2b40-51ab-48f4-9a29-3ac4b42f3359",
     "kernelId": ""
    },
    "id": "NfuFoUCS8YPv"
   },
   "outputs": [],
   "source": [
    "dls.vocab = [x for x in dls.vocab if x != 'xxfake']"
   ]
  },
  {
   "cell_type": "code",
   "execution_count": 56,
   "metadata": {
    "gradient": {
     "execution_count": 15,
     "id": "4efc4e47-3266-4c15-af67-8574653b0b09",
     "kernelId": ""
    }
   },
   "outputs": [
    {
     "data": {
      "text/plain": [
       "(1, 0)"
      ]
     },
     "execution_count": 56,
     "metadata": {},
     "output_type": "execute_result"
    }
   ],
   "source": [
    "len(dls.train), len(dls.valid)"
   ]
  },
  {
   "cell_type": "code",
   "execution_count": 57,
   "metadata": {
    "colab": {
     "base_uri": "https://localhost:8080/",
     "height": 306
    },
    "gradient": {
     "execution_count": 16,
     "id": "49f2e19f-b12b-4d7e-a0b8-258dba5378f8",
     "kernelId": ""
    },
    "id": "itg2vlcn8rZP",
    "outputId": "f658562c-b005-4ae0-bc49-3c825eb77fe6"
   },
   "outputs": [
    {
     "data": {
      "text/html": [
       "<table border=\"1\" class=\"dataframe\">\n",
       "  <thead>\n",
       "    <tr style=\"text-align: right;\">\n",
       "      <th></th>\n",
       "      <th>text</th>\n",
       "      <th>text_</th>\n",
       "    </tr>\n",
       "  </thead>\n",
       "  <tbody>\n",
       "    <tr>\n",
       "      <th>0</th>\n",
       "      <td>xxbos O =</td>\n",
       "      <td>O = C</td>\n",
       "    </tr>\n",
       "    <tr>\n",
       "      <th>1</th>\n",
       "      <td>C ( N</td>\n",
       "      <td>( N /</td>\n",
       "    </tr>\n",
       "    <tr>\n",
       "      <th>2</th>\n",
       "      <td>/ N =</td>\n",
       "      <td>N = C</td>\n",
       "    </tr>\n",
       "    <tr>\n",
       "      <th>3</th>\n",
       "      <td>C / c</td>\n",
       "      <td>/ c 1</td>\n",
       "    </tr>\n",
       "    <tr>\n",
       "      <th>4</th>\n",
       "      <td>1 c c</td>\n",
       "      <td>c c c</td>\n",
       "    </tr>\n",
       "    <tr>\n",
       "      <th>5</th>\n",
       "      <td>c c (</td>\n",
       "      <td>c ( O</td>\n",
       "    </tr>\n",
       "    <tr>\n",
       "      <th>6</th>\n",
       "      <td>O C c</td>\n",
       "      <td>C c 2</td>\n",
       "    </tr>\n",
       "    <tr>\n",
       "      <th>7</th>\n",
       "      <td>2 c c</td>\n",
       "      <td>c c c</td>\n",
       "    </tr>\n",
       "    <tr>\n",
       "      <th>8</th>\n",
       "      <td>c c c</td>\n",
       "      <td>c c 2</td>\n",
       "    </tr>\n",
       "  </tbody>\n",
       "</table>"
      ],
      "text/plain": [
       "<IPython.core.display.HTML object>"
      ]
     },
     "metadata": {},
     "output_type": "display_data"
    }
   ],
   "source": [
    "dls.show_batch()"
   ]
  },
  {
   "cell_type": "code",
   "execution_count": 58,
   "metadata": {
    "gradient": {
     "execution_count": 17,
     "id": "c042234d-c9cd-49ff-94c1-80bee5abce66",
     "kernelId": ""
    }
   },
   "outputs": [
    {
     "data": {
      "text/plain": [
       "Path('models/finetuning')"
      ]
     },
     "execution_count": 58,
     "metadata": {},
     "output_type": "execute_result"
    }
   ],
   "source": [
    "FT"
   ]
  },
  {
   "cell_type": "code",
   "execution_count": 59,
   "metadata": {
    "gradient": {
     "execution_count": 21,
     "id": "bdd0cb0f-cfd2-421e-9c6a-92c5d539e8fe",
     "kernelId": ""
    },
    "id": "Lo_h_PEK8rjx"
   },
   "outputs": [],
   "source": [
    "torch.save(dls, ENCODER/f'encoder_dataloader.pkl')"
   ]
  },
  {
   "cell_type": "markdown",
   "metadata": {
    "id": "UFR0BO0w9MVo"
   },
   "source": [
    "# Finetuning generative model"
   ]
  },
  {
   "cell_type": "code",
   "execution_count": 39,
   "metadata": {
    "colab": {
     "base_uri": "https://localhost:8080/",
     "height": 33
    },
    "gradient": {
     "execution_count": 13,
     "id": "d11b92cb-92c9-4ec1-9004-ee39b264b1f2",
     "kernelId": ""
    },
    "id": "F4e93Hz0z3cv",
    "outputId": "5235f458-f3aa-493d-d546-d7c0a1804818"
   },
   "outputs": [],
   "source": [
    "#dls = torch.load(FT/f'dls.pkl')"
   ]
  },
  {
   "cell_type": "code",
   "execution_count": 40,
   "metadata": {
    "colab": {
     "base_uri": "https://localhost:8080/",
     "height": 33
    },
    "gradient": {
     "execution_count": 14,
     "id": "c22b548b-c982-4f19-83a9-d61ee42b1b50",
     "kernelId": ""
    },
    "id": "cFx4ODV-8rQb",
    "outputId": "d84c5d9f-d62c-4ca8-d80a-4355275235fd"
   },
   "outputs": [],
   "source": [
    "vocab_path = ENCODER/'vocab.pkl'\n",
    "#pretrained_path = ENCODER/'models/fit6.pth'\n",
    "#pretrained_path,vocab_path"
   ]
  },
  {
   "cell_type": "code",
   "execution_count": 41,
   "metadata": {
    "gradient": {
     "execution_count": 15,
     "id": "f8ae6cfe-a90b-4edb-a433-64144700d296",
     "kernelId": ""
    }
   },
   "outputs": [
    {
     "data": {
      "text/plain": [
       "676798"
      ]
     },
     "execution_count": 41,
     "metadata": {},
     "output_type": "execute_result"
    }
   ],
   "source": [
    "sampler_cb = GenerativeCallback(reference_mols = lm_data.processed_smiles.unique().tolist(),temperature=1.0,max_mols=200,max_size=100)\n",
    "lm_data.shape[0]"
   ]
  },
  {
   "cell_type": "code",
   "execution_count": 42,
   "metadata": {
    "gradient": {
     "execution_count": 16,
     "id": "d76e1526-0192-4ac3-92c0-b3fa0d50ab01",
     "kernelId": ""
    }
   },
   "outputs": [],
   "source": [
    "validity_score = ValueMetric(sampler_cb._validity_score, 'Validity')\n",
    "novelty_score = ValueMetric(sampler_cb._novelty_score, 'Novelty')\n",
    "uniqueness_score = ValueMetric(sampler_cb._uniqueness_score, 'Uniqueness')"
   ]
  },
  {
   "cell_type": "code",
   "execution_count": 43,
   "metadata": {
    "gradient": {
     "execution_count": 17,
     "id": "fa6ab882-f289-4b0b-8b87-87455fca5436",
     "kernelId": ""
    }
   },
   "outputs": [],
   "source": [
    "cbs = [sampler_cb, CSVLogger(append=True)]\n",
    "metrics = [validity_score, novelty_score, uniqueness_score]"
   ]
  },
  {
   "cell_type": "code",
   "execution_count": 44,
   "metadata": {
    "gradient": {
     "execution_count": 18,
     "id": "75d214f2-6963-4741-b62e-43a0b8547550",
     "kernelId": ""
    },
    "id": "GQRY3-Nz9QbC"
   },
   "outputs": [],
   "source": [
    "learn = language_model_learner(dls, AWD_LSTM,pretrained=False,path=ENCODER,metrics=metrics,drop_mult=0.5)\n",
    "learn.unfreeze()"
   ]
  },
  {
   "cell_type": "code",
   "execution_count": 20,
   "metadata": {
    "colab": {
     "base_uri": "https://localhost:8080/",
     "height": 298
    },
    "gradient": {
     "execution_count": 28,
     "id": "0722de16-f9ac-47fe-af79-0e39e18cc31a",
     "kernelId": ""
    },
    "id": "b21POSsD9QRc",
    "outputId": "36aca9be-128f-469f-d740-6d2a399c0c7f"
   },
   "outputs": [
    {
     "data": {
      "text/html": [
       "\n",
       "<style>\n",
       "    /* Turns off some styling */\n",
       "    progress {\n",
       "        /* gets rid of default border in Firefox and Opera. */\n",
       "        border: none;\n",
       "        /* Needs to be in here for Safari polyfill so background images work as expected. */\n",
       "        background-size: auto;\n",
       "    }\n",
       "    .progress-bar-interrupted, .progress-bar-interrupted::-webkit-progress-bar {\n",
       "        background: #F44336;\n",
       "    }\n",
       "</style>\n"
      ],
      "text/plain": [
       "<IPython.core.display.HTML object>"
      ]
     },
     "metadata": {},
     "output_type": "display_data"
    },
    {
     "data": {
      "text/html": [],
      "text/plain": [
       "<IPython.core.display.HTML object>"
      ]
     },
     "metadata": {},
     "output_type": "display_data"
    },
    {
     "data": {
      "text/plain": [
       "SuggestedLRs(valley=0.00019648678426165134)"
      ]
     },
     "execution_count": 20,
     "metadata": {},
     "output_type": "execute_result"
    },
    {
     "data": {
      "image/png": "[encoded data removed]",
      "text/plain": [
       "<Figure size 432x288 with 1 Axes>"
      ]
     },
     "metadata": {
      "needs_background": "light"
     },
     "output_type": "display_data"
    }
   ],
   "source": [
    "learn.lr_find(num_it=600)"
   ]
  },
  {
   "cell_type": "code",
   "execution_count": 21,
   "metadata": {
    "colab": {
     "base_uri": "https://localhost:8080/",
     "height": 282
    },
    "gradient": {
     "execution_count": 29,
     "id": "ea824ae5-13b0-4675-891b-6a2905782bc7",
     "kernelId": ""
    },
    "id": "-ugeTy5L9QMu",
    "outputId": "641a66bb-4e8e-4b68-b3dc-8492a0c96c84"
   },
   "outputs": [
    {
     "data": {
      "image/png": "[encoded data removed]",
      "text/plain": [
       "<Figure size 432x288 with 1 Axes>"
      ]
     },
     "metadata": {
      "needs_background": "light"
     },
     "output_type": "display_data"
    }
   ],
   "source": [
    "learn.recorder.plot_lr_find(skip_end=80)"
   ]
  },
  {
   "cell_type": "code",
   "execution_count": 45,
   "metadata": {
    "gradient": {
     "execution_count": 19,
     "id": "15b074ea-1340-41fc-897d-847f618ee2ad",
     "kernelId": ""
    }
   },
   "outputs": [],
   "source": [
    "lrs=5e-3\n",
    "lr = slice(lrs/2.6**4, lrs)"
   ]
  },
  {
   "cell_type": "code",
   "execution_count": 46,
   "metadata": {
    "colab": {
     "base_uri": "https://localhost:8080/",
     "height": 325
    },
    "gradient": {
     "execution_count": 31,
     "id": "a98b0238-d6fe-4434-a5d3-f7881de8af08",
     "kernelId": ""
    },
    "id": "Epj3oZPi-mrc",
    "outputId": "c48dd206-4888-4530-ecab-4d37330b10ce"
   },
   "outputs": [
    {
     "data": {
      "text/html": [
       "\n",
       "<style>\n",
       "    /* Turns off some styling */\n",
       "    progress {\n",
       "        /* gets rid of default border in Firefox and Opera. */\n",
       "        border: none;\n",
       "        /* Needs to be in here for Safari polyfill so background images work as expected. */\n",
       "        background-size: auto;\n",
       "    }\n",
       "    .progress-bar-interrupted, .progress-bar-interrupted::-webkit-progress-bar {\n",
       "        background: #F44336;\n",
       "    }\n",
       "</style>\n"
      ],
      "text/plain": [
       "<IPython.core.display.HTML object>"
      ]
     },
     "metadata": {},
     "output_type": "display_data"
    },
    {
     "data": {
      "text/html": [
       "\n",
       "    <div>\n",
       "      <progress value='0' class='' max='3' style='width:300px; height:20px; vertical-align: middle;'></progress>\n",
       "      0.00% [0/3 00:00<00:00]\n",
       "    </div>\n",
       "    \n",
       "<table border=\"1\" class=\"dataframe\">\n",
       "  <thead>\n",
       "    <tr style=\"text-align: left;\">\n",
       "      <th>epoch</th>\n",
       "      <th>train_loss</th>\n",
       "      <th>valid_loss</th>\n",
       "      <th>Validity</th>\n",
       "      <th>Novelty</th>\n",
       "      <th>Uniqueness</th>\n",
       "      <th>time</th>\n",
       "    </tr>\n",
       "  </thead>\n",
       "  <tbody>\n",
       "  </tbody>\n",
       "</table><p>\n",
       "\n",
       "    <div>\n",
       "      <progress value='4456' class='' max='8745' style='width:300px; height:20px; vertical-align: middle;'></progress>\n",
       "      50.95% [4456/8745 21:10<20:23 0.8740]\n",
       "    </div>\n",
       "    "
      ],
      "text/plain": [
       "<IPython.core.display.HTML object>"
      ]
     },
     "metadata": {},
     "output_type": "display_data"
    },
    {
     "name": "stderr",
     "output_type": "stream",
     "text": [
      "\n",
      "KeyboardInterrupt\n",
      "\n"
     ]
    }
   ],
   "source": [
    "learn.fit_one_cycle(3, lr, cbs=cbs)"
   ]
  },
  {
   "cell_type": "code",
   "execution_count": null,
   "metadata": {
    "colab": {
     "base_uri": "https://localhost:8080/",
     "height": 33
    },
    "gradient": {
     "execution_count": 33,
     "id": "4c294f8c-a2ac-49d5-94bd-c2fa6de2726e",
     "kernelId": ""
    },
    "id": "rkScOZRC9QCy",
    "outputId": "401e113b-bca7-4cdb-db9d-44daf090caed"
   },
   "outputs": [],
   "source": [
    "learn.save('fit1');"
   ]
  },
  {
   "cell_type": "code",
   "execution_count": null,
   "metadata": {
    "gradient": {
     "execution_count": 34,
     "id": "54f554d7-452a-4964-9cf3-163da7b26e52",
     "kernelId": ""
    }
   },
   "outputs": [],
   "source": [
    "learn.fit_one_cycle(5, lr, cbs=cbs)"
   ]
  },
  {
   "cell_type": "code",
   "execution_count": null,
   "metadata": {
    "gradient": {
     "execution_count": 35,
     "id": "508a2238-fed5-4f19-964c-ca6aecf19096",
     "kernelId": ""
    }
   },
   "outputs": [],
   "source": [
    "learn.save('fit');"
   ]
  },
  {
   "cell_type": "code",
   "execution_count": null,
   "metadata": {
    "gradient": {
     "execution_count": 20,
     "id": "7f33523b-df74-4e0f-bc54-e801f6ef8460",
     "kernelId": ""
    }
   },
   "outputs": [],
   "source": [
    "learn.load('fit');\n",
    "#learn.unfreeze()"
   ]
  },
  {
   "cell_type": "code",
   "execution_count": null,
   "metadata": {
    "gradient": {
     "id": "f1ce8dbd-1505-4b6c-aac5-cbc9d8a3acb7",
     "kernelId": ""
    }
   },
   "outputs": [],
   "source": [
    "learn.fit_one_cycle(10, lr, cbs=cbs)\n",
    "learn.save('fit');"
   ]
  },
  {
   "cell_type": "code",
   "execution_count": null,
   "metadata": {
    "gradient": {
     "id": "5641fe16-eae7-4f60-9751-982adf99e6a8",
     "kernelId": ""
    }
   },
   "outputs": [],
   "source": [
    "7777"
   ]
  },
  {
   "cell_type": "code",
   "execution_count": null,
   "metadata": {
    "gradient": {
     "id": "2c56b656-f6d6-49d9-b653-8db969af4263",
     "kernelId": ""
    }
   },
   "outputs": [],
   "source": [
    "888"
   ]
  },
  {
   "cell_type": "code",
   "execution_count": null,
   "metadata": {
    "gradient": {
     "id": "954a4edb-e1d3-4ed2-a90e-3d72f1835e38",
     "kernelId": ""
    },
    "id": "O9vDJq9n8rBp"
   },
   "outputs": [],
   "source": [
    "learn.save_encoder('encoder')"
   ]
  },
  {
   "cell_type": "code",
   "execution_count": null,
   "metadata": {
    "gradient": {
     "id": "be6d6f53-eb30-40a5-9e92-a26ec672111f",
     "kernelId": ""
    }
   },
   "outputs": [],
   "source": [
    "learn.export()"
   ]
  },
  {
   "cell_type": "code",
   "execution_count": null,
   "metadata": {
    "gradient": {
     "id": "e270d39d-f902-49b7-9f5a-f5e35031a1b7",
     "kernelId": ""
    }
   },
   "outputs": [],
   "source": [
    "8"
   ]
  },
  {
   "cell_type": "markdown",
   "metadata": {},
   "source": [
    "# Generative validation"
   ]
  },
  {
   "cell_type": "markdown",
   "metadata": {},
   "source": [
    "## "
   ]
  }
 ],
 "metadata": {
  "accelerator": "GPU",
  "colab": {
   "collapsed_sections": [
    "YF6ZSEJtDLtx",
    "lDRFzpVl8QtX",
    "UFR0BO0w9MVo",
    "aX2mgpnH_PZJ"
   ],
   "name": "Finetuning.ipynb",
   "provenance": [],
   "toc_visible": true
  },
  "kernelspec": {
   "display_name": "cheminformatics",
   "language": "python",
   "name": "cheminformatics"
  },
  "language_info": {
   "codemirror_mode": {
    "name": "ipython",
    "version": 3
   },
   "file_extension": ".py",
   "mimetype": "text/x-python",
   "name": "python",
   "nbconvert_exporter": "python",
   "pygments_lexer": "ipython3",
   "version": "3.9.12"
  }
 },
 "nbformat": 4,
 "nbformat_minor": 4
}
