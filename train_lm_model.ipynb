{
 "cells": [
  {
   "cell_type": "code",
   "execution_count": 1,
   "metadata": {
    "gradient": {
     "editing": false,
     "execution_count": 1,
     "id": "efb2650d-01a7-466c-ad08-d34f63920b9c",
     "kernelId": ""
    }
   },
   "outputs": [
    {
     "name": "stderr",
     "output_type": "stream",
     "text": [
      "WARNING:root:No normalization for BCUT2D_MWHI\n",
      "WARNING:root:No normalization for BCUT2D_MWLOW\n",
      "WARNING:root:No normalization for BCUT2D_CHGHI\n",
      "WARNING:root:No normalization for BCUT2D_CHGLO\n",
      "WARNING:root:No normalization for BCUT2D_LOGPHI\n",
      "WARNING:root:No normalization for BCUT2D_LOGPLOW\n",
      "WARNING:root:No normalization for BCUT2D_MRHI\n",
      "WARNING:root:No normalization for BCUT2D_MRLOW\n"
     ]
    },
    {
     "name": "stdout",
     "output_type": "stream",
     "text": [
      "Author: Marcos Santana\n",
      "\n",
      "Python implementation: CPython\n",
      "Python version       : 3.9.12\n",
      "IPython version      : 8.4.0\n",
      "\n",
      "fastai         : 2.7.9\n",
      "descriptastorus: 2.3.0.6\n",
      "numpy          : 1.22.3\n",
      "pandas         : 1.4.2\n",
      "torch          : 1.12.0\n",
      "joblib         : 1.1.0\n",
      "guacamol       : 0.5.4\n",
      "fastinference  : 0.0.36\n",
      "rdkit          : 2022.03.4\n",
      "tqdm           : 4.62.3\n",
      "\n"
     ]
    }
   ],
   "source": [
    "%reload_ext autoreload\n",
    "%autoreload 2\n",
    "%load_ext watermark\n",
    "%watermark -a 'Marcos Santana' -d -p fastai,descriptastorus,numpy,pandas,torch,joblib,guacamol,fastinference,rdkit,tqdm -v"
   ]
  },
  {
   "cell_type": "markdown",
   "metadata": {
    "gradient": {
     "editing": false,
     "id": "d3c9ae63-f6e9-487f-aa80-1ff85d438005",
     "kernelId": ""
    },
    "id": "YF6ZSEJtDLtx"
   },
   "source": [
    "# Dependencies and module"
   ]
  },
  {
   "cell_type": "code",
   "execution_count": 2,
   "metadata": {
    "colab": {
     "base_uri": "https://localhost:8080/"
    },
    "gradient": {
     "editing": false,
     "execution_count": 2,
     "id": "4bf851c1-d995-4d2e-8bae-67b5299059c3",
     "kernelId": ""
    },
    "id": "KPimzb265PoR",
    "outputId": "1be6f8c6-f8c3-4a31-be20-c09996f9ac30"
   },
   "outputs": [
    {
     "name": "stderr",
     "output_type": "stream",
     "text": [
      "2022-08-18 12:03:33.950289: W tensorflow/stream_executor/platform/default/dso_loader.cc:64] Could not load dynamic library 'libcudart.so.11.0'; dlerror: libcudart.so.11.0: cannot open shared object file: No such file or directory; LD_LIBRARY_PATH: /usr/local/nvidia/lib:/usr/local/nvidia/lib64\n",
      "2022-08-18 12:03:33.950343: I tensorflow/stream_executor/cuda/cudart_stub.cc:29] Ignore above cudart dlerror if you do not have a GPU set up on your machine.\n"
     ]
    }
   ],
   "source": [
    "import pandas as pd\n",
    "import numpy as np\n",
    "\n",
    "from fastai.text.all import *\n",
    "from denovo_design.tokenizer import MolTokenizer\n",
    "from denovo_design.generative_callback import *\n",
    "\n",
    "from tqdm.notebook import trange, tqdm\n",
    "from rdkit import rdBase\n",
    "\n",
    "rdBase.DisableLog('rdApp.error')\n",
    "rdBase.DisableLog('rdApp.info')\n",
    "from rdkit.Chem import MolFromSmiles, MolToSmiles"
   ]
  },
  {
   "cell_type": "markdown",
   "metadata": {
    "gradient": {
     "editing": false,
     "id": "e2657e4f-ad1f-43b5-9845-d005ee5c2045",
     "kernelId": ""
    },
    "id": "wHrLp5sG7qI_"
   },
   "source": [
    "# Load data"
   ]
  },
  {
   "cell_type": "code",
   "execution_count": 3,
   "metadata": {
    "gradient": {
     "editing": false,
     "execution_count": 3,
     "id": "ceb3b233-9533-43cb-b4cc-67653aaec5ce",
     "kernelId": ""
    }
   },
   "outputs": [],
   "source": [
    "lm_data = pd.read_csv(f'../datasets/processed_data/fxa_processed.csv')"
   ]
  },
  {
   "cell_type": "code",
   "execution_count": 4,
   "metadata": {},
   "outputs": [],
   "source": [
    "act_data = lm_data[lm_data['Label']==1]"
   ]
  },
  {
   "cell_type": "code",
   "execution_count": 5,
   "metadata": {
    "gradient": {
     "editing": false,
     "execution_count": 4,
     "id": "ddabec62-a09a-4ba9-81f5-3ec1be9179f7",
     "kernelId": ""
    }
   },
   "outputs": [
    {
     "data": {
      "text/plain": [
       "(2423, 21)"
      ]
     },
     "execution_count": 5,
     "metadata": {},
     "output_type": "execute_result"
    }
   ],
   "source": [
    "act_data.shape"
   ]
  },
  {
   "cell_type": "code",
   "execution_count": 6,
   "metadata": {
    "colab": {
     "base_uri": "https://localhost:8080/",
     "height": 102
    },
    "gradient": {
     "editing": false,
     "execution_count": 6,
     "id": "99591cf9-7212-4c47-975a-5b78c0c4af1c",
     "kernelId": ""
    },
    "id": "rxdLDJ5I5vvj",
    "outputId": "ad6da1b7-2c37-4150-f095-d7894eb3e26f"
   },
   "outputs": [
    {
     "data": {
      "text/plain": [
       "(Path('models/testingcallback'), Path('models/encoder'))"
      ]
     },
     "execution_count": 6,
     "metadata": {},
     "output_type": "execute_result"
    }
   ],
   "source": [
    "MODELS = Path('models')\n",
    "FT = Path(f'{MODELS}/testingcallback')\n",
    "ENCODER = Path(f'{MODELS}/encoder')\n",
    "FT.mkdir(exist_ok=True, parents=True)\n",
    "ENCODER.mkdir(exist_ok=True, parents=True)\n",
    "FT,ENCODER"
   ]
  },
  {
   "cell_type": "markdown",
   "metadata": {
    "id": "lDRFzpVl8QtX"
   },
   "source": [
    "# Dataloader"
   ]
  },
  {
   "cell_type": "code",
   "execution_count": 7,
   "metadata": {
    "gradient": {
     "execution_count": 12,
     "id": "a86db52c-95d7-44d7-b010-821081e37c2d",
     "kernelId": ""
    }
   },
   "outputs": [],
   "source": [
    "config=awd_lstm_lm_config.copy()"
   ]
  },
  {
   "cell_type": "code",
   "execution_count": 8,
   "metadata": {
    "colab": {
     "base_uri": "https://localhost:8080/",
     "height": 17
    },
    "gradient": {
     "execution_count": 12,
     "id": "b9ca7f4d-9c42-444a-b2a8-095e4638d61b",
     "kernelId": ""
    },
    "id": "anhuqjR85vJF",
    "outputId": "5bb01d4b-5aee-4dfa-f79e-4c113d2aad74"
   },
   "outputs": [
    {
     "data": {
      "text/html": [
       "\n",
       "<style>\n",
       "    /* Turns off some styling */\n",
       "    progress {\n",
       "        /* gets rid of default border in Firefox and Opera. */\n",
       "        border: none;\n",
       "        /* Needs to be in here for Safari polyfill so background images work as expected. */\n",
       "        background-size: auto;\n",
       "    }\n",
       "    .progress-bar-interrupted, .progress-bar-interrupted::-webkit-progress-bar {\n",
       "        background: #F44336;\n",
       "    }\n",
       "</style>\n"
      ],
      "text/plain": [
       "<IPython.core.display.HTML object>"
      ]
     },
     "metadata": {},
     "output_type": "display_data"
    },
    {
     "data": {
      "text/html": [],
      "text/plain": [
       "<IPython.core.display.HTML object>"
      ]
     },
     "metadata": {},
     "output_type": "display_data"
    }
   ],
   "source": [
    "splitter = RandomSplitter(0.10)\n",
    "spec_toks = [BOS, PAD]\n",
    "text_col = 'processed_smiles'\n",
    "tfms = [attrgetter(text_col),\n",
    "        Tokenizer.from_df(text_cols=text_col,tok=MolTokenizer(),rules=[],tok_text_col=text_col),\n",
    "        Numericalize(min_freq = 1, special_toks=spec_toks)]\n",
    "dst = Datasets(act_data, tfms=[tfms], splits = splitter(act_data), dl_type=LMDataLoader)"
   ]
  },
  {
   "cell_type": "code",
   "execution_count": 9,
   "metadata": {
    "colab": {
     "base_uri": "https://localhost:8080/",
     "height": 50
    },
    "gradient": {
     "execution_count": 13,
     "id": "5add4113-1621-4d54-9d8f-1b36fbf97816",
     "kernelId": ""
    },
    "id": "MKijOtzv8Xsk",
    "outputId": "4d2f612b-4a20-4aab-b3a1-4f03a0cfd556"
   },
   "outputs": [],
   "source": [
    "dls = dst.dataloaders(bs=64,seq_len=30)"
   ]
  },
  {
   "cell_type": "code",
   "execution_count": 10,
   "metadata": {
    "gradient": {
     "execution_count": 14,
     "id": "368a2b40-51ab-48f4-9a29-3ac4b42f3359",
     "kernelId": ""
    },
    "id": "NfuFoUCS8YPv"
   },
   "outputs": [],
   "source": [
    "dls.vocab = [x for x in dls.vocab if x != 'xxfake']"
   ]
  },
  {
   "cell_type": "code",
   "execution_count": 11,
   "metadata": {
    "gradient": {
     "execution_count": 15,
     "id": "4efc4e47-3266-4c15-af67-8574653b0b09",
     "kernelId": ""
    }
   },
   "outputs": [
    {
     "data": {
      "text/plain": [
       "(71, 8)"
      ]
     },
     "execution_count": 11,
     "metadata": {},
     "output_type": "execute_result"
    }
   ],
   "source": [
    "len(dls.train), len(dls.valid)"
   ]
  },
  {
   "cell_type": "code",
   "execution_count": 12,
   "metadata": {
    "colab": {
     "base_uri": "https://localhost:8080/",
     "height": 306
    },
    "gradient": {
     "execution_count": 16,
     "id": "49f2e19f-b12b-4d7e-a0b8-258dba5378f8",
     "kernelId": ""
    },
    "id": "itg2vlcn8rZP",
    "outputId": "f658562c-b005-4ae0-bc49-3c825eb77fe6"
   },
   "outputs": [
    {
     "data": {
      "text/html": [
       "<table border=\"1\" class=\"dataframe\">\n",
       "  <thead>\n",
       "    <tr style=\"text-align: right;\">\n",
       "      <th></th>\n",
       "      <th>text</th>\n",
       "      <th>text_</th>\n",
       "    </tr>\n",
       "  </thead>\n",
       "  <tbody>\n",
       "    <tr>\n",
       "      <th>0</th>\n",
       "      <td>xxbos C [C@@H] ( C ( = O ) N ( C ) C ) N 1 C C [C@H] ( N S ( = O ) ( = O</td>\n",
       "      <td>C [C@@H] ( C ( = O ) N ( C ) C ) N 1 C C [C@H] ( N S ( = O ) ( = O )</td>\n",
       "    </tr>\n",
       "    <tr>\n",
       "      <th>1</th>\n",
       "      <td>2 ) C 1 = O ) S ( = O ) ( = O ) c 1 c c c 2 c c ( Cl ) c c c</td>\n",
       "      <td>) C 1 = O ) S ( = O ) ( = O ) c 1 c c c 2 c c ( Cl ) c c c 2</td>\n",
       "    </tr>\n",
       "    <tr>\n",
       "      <th>2</th>\n",
       "      <td>C ( = O ) c 1 s c c ( C N 2 C C S C C 2 ) c 1 Cl xxbos N = C ( N</td>\n",
       "      <td>( = O ) c 1 s c c ( C N 2 C C S C C 2 ) c 1 Cl xxbos N = C ( N )</td>\n",
       "    </tr>\n",
       "    <tr>\n",
       "      <th>3</th>\n",
       "      <td>) c 2 c 1 xxbos C O C ( = O ) C C C N ( c 1 c c c 2 n c ( C ) n</td>\n",
       "      <td>c 2 c 1 xxbos C O C ( = O ) C C C N ( c 1 c c c 2 n c ( C ) n (</td>\n",
       "    </tr>\n",
       "    <tr>\n",
       "      <th>4</th>\n",
       "      <td>O C 1 C C C C C 1 xxbos N = C ( N ) c 1 c c c ( N C ( = O ) C 2</td>\n",
       "      <td>C 1 C C C C C 1 xxbos N = C ( N ) c 1 c c c ( N C ( = O ) C 2 C</td>\n",
       "    </tr>\n",
       "    <tr>\n",
       "      <th>5</th>\n",
       "      <td>xxbos O = C ( C N C ( = O ) C ( C C c 1 c c c c [n+] 1 [O-] ) N S ( =</td>\n",
       "      <td>O = C ( C N C ( = O ) C ( C C c 1 c c c c [n+] 1 [O-] ) N S ( = O</td>\n",
       "    </tr>\n",
       "    <tr>\n",
       "      <th>6</th>\n",
       "      <td>Cl ) s 1 xxbos C / C ( = C ( \\ F ) C ( = O ) N c 1 c c c ( - c 2</td>\n",
       "      <td>) s 1 xxbos C / C ( = C ( \\ F ) C ( = O ) N c 1 c c c ( - c 2 c</td>\n",
       "    </tr>\n",
       "    <tr>\n",
       "      <th>7</th>\n",
       "      <td>C ) C ) c 1 xxbos N = C ( N ) c 1 c c c ( O ) c ( / C = C / C N</td>\n",
       "      <td>) C ) c 1 xxbos N = C ( N ) c 1 c c c ( O ) c ( / C = C / C N C</td>\n",
       "    </tr>\n",
       "    <tr>\n",
       "      <th>8</th>\n",
       "      <td>N 1 C C C ( N C ( = O ) c 2 c c 3 c c c c c 3 n 2 C C ( = O</td>\n",
       "      <td>1 C C C ( N C ( = O ) c 2 c c 3 c c c c c 3 n 2 C C ( = O )</td>\n",
       "    </tr>\n",
       "  </tbody>\n",
       "</table>"
      ],
      "text/plain": [
       "<IPython.core.display.HTML object>"
      ]
     },
     "metadata": {},
     "output_type": "display_data"
    }
   ],
   "source": [
    "dls.show_batch()"
   ]
  },
  {
   "cell_type": "code",
   "execution_count": 13,
   "metadata": {
    "gradient": {
     "execution_count": 21,
     "id": "bdd0cb0f-cfd2-421e-9c6a-92c5d539e8fe",
     "kernelId": ""
    },
    "id": "Lo_h_PEK8rjx"
   },
   "outputs": [],
   "source": [
    "#torch.save(dls, ENCODER/f'encoder_dataloader.pkl')"
   ]
  },
  {
   "cell_type": "markdown",
   "metadata": {
    "id": "UFR0BO0w9MVo"
   },
   "source": [
    "# Train generative model"
   ]
  },
  {
   "cell_type": "code",
   "execution_count": 14,
   "metadata": {
    "colab": {
     "base_uri": "https://localhost:8080/",
     "height": 33
    },
    "gradient": {
     "execution_count": 13,
     "id": "d11b92cb-92c9-4ec1-9004-ee39b264b1f2",
     "kernelId": ""
    },
    "id": "F4e93Hz0z3cv",
    "outputId": "5235f458-f3aa-493d-d546-d7c0a1804818"
   },
   "outputs": [],
   "source": [
    "#dls = torch.load(ENCODER/f'encoder_dataloader.pkl')"
   ]
  },
  {
   "cell_type": "code",
   "execution_count": 15,
   "metadata": {
    "colab": {
     "base_uri": "https://localhost:8080/",
     "height": 33
    },
    "gradient": {
     "execution_count": 14,
     "id": "c22b548b-c982-4f19-83a9-d61ee42b1b50",
     "kernelId": ""
    },
    "id": "cFx4ODV-8rQb",
    "outputId": "d84c5d9f-d62c-4ca8-d80a-4355275235fd"
   },
   "outputs": [
    {
     "data": {
      "text/plain": [
       "(Path('models/encoder/models/fit6.pth'), Path('models/encoder/vocab.pkl'))"
      ]
     },
     "execution_count": 15,
     "metadata": {},
     "output_type": "execute_result"
    }
   ],
   "source": [
    "vocab_path = ENCODER/'vocab.pkl'\n",
    "pretrained_path = ENCODER/'models/fit6.pth'\n",
    "pretrained_path,vocab_path"
   ]
  },
  {
   "cell_type": "code",
   "execution_count": 16,
   "metadata": {
    "gradient": {
     "execution_count": 15,
     "id": "f8ae6cfe-a90b-4edb-a433-64144700d296",
     "kernelId": ""
    }
   },
   "outputs": [
    {
     "data": {
      "text/plain": [
       "3503"
      ]
     },
     "execution_count": 16,
     "metadata": {},
     "output_type": "execute_result"
    }
   ],
   "source": [
    "sampler_cb = GenerativeCallback(reference_mols = lm_data.processed_smiles.unique().tolist(),temperature=1.0,max_mols=20,max_size=100, output_file=FT/'generated_mols.smi')\n",
    "lm_data.shape[0]"
   ]
  },
  {
   "cell_type": "code",
   "execution_count": 17,
   "metadata": {
    "gradient": {
     "execution_count": 16,
     "id": "d76e1526-0192-4ac3-92c0-b3fa0d50ab01",
     "kernelId": ""
    }
   },
   "outputs": [],
   "source": [
    "validity_score = ValueMetric(sampler_cb._validity_score, 'Validity')\n",
    "novelty_score = ValueMetric(sampler_cb._novelty_score, 'Novelty')\n",
    "uniqueness_score = ValueMetric(sampler_cb._uniqueness_score, 'Uniqueness')"
   ]
  },
  {
   "cell_type": "code",
   "execution_count": 18,
   "metadata": {
    "gradient": {
     "execution_count": 17,
     "id": "fa6ab882-f289-4b0b-8b87-87455fca5436",
     "kernelId": ""
    }
   },
   "outputs": [],
   "source": [
    "cbs = [sampler_cb, CSVLogger(append=True)]\n",
    "metrics = [validity_score, novelty_score, uniqueness_score]"
   ]
  },
  {
   "cell_type": "code",
   "execution_count": 19,
   "metadata": {
    "gradient": {
     "execution_count": 18,
     "id": "75d214f2-6963-4741-b62e-43a0b8547550",
     "kernelId": ""
    },
    "id": "GQRY3-Nz9QbC"
   },
   "outputs": [],
   "source": [
    "learn = language_model_learner(dls, AWD_LSTM,pretrained=False,path=FT,metrics=metrics,\n",
    "                               drop_mult=0.25).load_pretrained('models/finetuning/fit6.pth', 'models/finetuning/vocab.pkl')"
   ]
  },
  {
   "cell_type": "code",
   "execution_count": 20,
   "metadata": {
    "colab": {
     "base_uri": "https://localhost:8080/",
     "height": 298
    },
    "gradient": {
     "execution_count": 28,
     "id": "0722de16-f9ac-47fe-af79-0e39e18cc31a",
     "kernelId": ""
    },
    "id": "b21POSsD9QRc",
    "outputId": "36aca9be-128f-469f-d740-6d2a399c0c7f"
   },
   "outputs": [],
   "source": [
    "#learn.lr_find(num_it=600)"
   ]
  },
  {
   "cell_type": "code",
   "execution_count": 21,
   "metadata": {
    "colab": {
     "base_uri": "https://localhost:8080/",
     "height": 282
    },
    "gradient": {
     "execution_count": 29,
     "id": "ea824ae5-13b0-4675-891b-6a2905782bc7",
     "kernelId": ""
    },
    "id": "-ugeTy5L9QMu",
    "outputId": "641a66bb-4e8e-4b68-b3dc-8492a0c96c84"
   },
   "outputs": [],
   "source": [
    "#learn.recorder.plot_lr_find(skip_end=80)"
   ]
  },
  {
   "cell_type": "code",
   "execution_count": 22,
   "metadata": {
    "gradient": {
     "execution_count": 19,
     "id": "15b074ea-1340-41fc-897d-847f618ee2ad",
     "kernelId": ""
    }
   },
   "outputs": [],
   "source": [
    "lrs=1e-2\n",
    "lr = slice(lrs/2.6**4, lrs)"
   ]
  },
  {
   "cell_type": "code",
   "execution_count": 23,
   "metadata": {
    "colab": {
     "base_uri": "https://localhost:8080/",
     "height": 325
    },
    "gradient": {
     "execution_count": 31,
     "id": "a98b0238-d6fe-4434-a5d3-f7881de8af08",
     "kernelId": ""
    },
    "id": "Epj3oZPi-mrc",
    "outputId": "c48dd206-4888-4530-ecab-4d37330b10ce"
   },
   "outputs": [
    {
     "data": {
      "text/html": [
       "\n",
       "<style>\n",
       "    /* Turns off some styling */\n",
       "    progress {\n",
       "        /* gets rid of default border in Firefox and Opera. */\n",
       "        border: none;\n",
       "        /* Needs to be in here for Safari polyfill so background images work as expected. */\n",
       "        background-size: auto;\n",
       "    }\n",
       "    .progress-bar-interrupted, .progress-bar-interrupted::-webkit-progress-bar {\n",
       "        background: #F44336;\n",
       "    }\n",
       "</style>\n"
      ],
      "text/plain": [
       "<IPython.core.display.HTML object>"
      ]
     },
     "metadata": {},
     "output_type": "display_data"
    },
    {
     "data": {
      "text/html": [
       "<table border=\"1\" class=\"dataframe\">\n",
       "  <thead>\n",
       "    <tr style=\"text-align: left;\">\n",
       "      <th>epoch</th>\n",
       "      <th>train_loss</th>\n",
       "      <th>valid_loss</th>\n",
       "      <th>Validity</th>\n",
       "      <th>Novelty</th>\n",
       "      <th>Uniqueness</th>\n",
       "      <th>time</th>\n",
       "    </tr>\n",
       "  </thead>\n",
       "  <tbody>\n",
       "    <tr>\n",
       "      <td>0</td>\n",
       "      <td>0.640984</td>\n",
       "      <td>0.651613</td>\n",
       "      <td>0.950000</td>\n",
       "      <td>0.950000</td>\n",
       "      <td>0.950000</td>\n",
       "      <td>00:18</td>\n",
       "    </tr>\n",
       "    <tr>\n",
       "      <td>1</td>\n",
       "      <td>0.597784</td>\n",
       "      <td>0.633443</td>\n",
       "      <td>0.800000</td>\n",
       "      <td>0.800000</td>\n",
       "      <td>0.800000</td>\n",
       "      <td>00:19</td>\n",
       "    </tr>\n",
       "  </tbody>\n",
       "</table>"
      ],
      "text/plain": [
       "<IPython.core.display.HTML object>"
      ]
     },
     "metadata": {},
     "output_type": "display_data"
    },
    {
     "name": "stderr",
     "output_type": "stream",
     "text": [
      "WARNING:guacamol.distribution_learning_benchmark:The model could not generate enough unique molecules. The score will be penalized.\n",
      "WARNING:guacamol.distribution_learning_benchmark:The model could not generate enough valid molecules. The score will be penalized.\n",
      "WARNING:guacamol.distribution_learning_benchmark:The model could not generate enough unique molecules. The score will be penalized.\n",
      "WARNING:guacamol.distribution_learning_benchmark:The model could not generate enough valid molecules. The score will be penalized.\n"
     ]
    }
   ],
   "source": [
    "learn.fit_one_cycle(2, lr, cbs=cbs)"
   ]
  },
  {
   "cell_type": "code",
   "execution_count": null,
   "metadata": {
    "colab": {
     "base_uri": "https://localhost:8080/",
     "height": 33
    },
    "gradient": {
     "execution_count": 33,
     "id": "4c294f8c-a2ac-49d5-94bd-c2fa6de2726e",
     "kernelId": ""
    },
    "id": "rkScOZRC9QCy",
    "outputId": "401e113b-bca7-4cdb-db9d-44daf090caed"
   },
   "outputs": [],
   "source": [
    "learn.save('fit1');"
   ]
  },
  {
   "cell_type": "code",
   "execution_count": null,
   "metadata": {},
   "outputs": [],
   "source": [
    "learn.freeze_to(-2)"
   ]
  },
  {
   "cell_type": "code",
   "execution_count": null,
   "metadata": {
    "gradient": {
     "execution_count": 34,
     "id": "54f554d7-452a-4964-9cf3-163da7b26e52",
     "kernelId": ""
    }
   },
   "outputs": [],
   "source": [
    "learn.fit_one_cycle(5, lr, cbs=cbs)"
   ]
  },
  {
   "cell_type": "code",
   "execution_count": null,
   "metadata": {
    "gradient": {
     "execution_count": 35,
     "id": "508a2238-fed5-4f19-964c-ca6aecf19096",
     "kernelId": ""
    }
   },
   "outputs": [],
   "source": [
    "learn.freeze_to(-3)"
   ]
  },
  {
   "cell_type": "code",
   "execution_count": null,
   "metadata": {
    "gradient": {
     "id": "f1ce8dbd-1505-4b6c-aac5-cbc9d8a3acb7",
     "kernelId": ""
    }
   },
   "outputs": [],
   "source": [
    "learn.fit_one_cycle(5, lr, cbs=cbs)"
   ]
  },
  {
   "cell_type": "code",
   "execution_count": null,
   "metadata": {},
   "outputs": [],
   "source": [
    "learn.unfreeze()"
   ]
  },
  {
   "cell_type": "code",
   "execution_count": null,
   "metadata": {},
   "outputs": [],
   "source": [
    "learn.fit_one_cycle(5, lr, cbs=cbs)"
   ]
  },
  {
   "cell_type": "code",
   "execution_count": null,
   "metadata": {
    "gradient": {
     "id": "954a4edb-e1d3-4ed2-a90e-3d72f1835e38",
     "kernelId": ""
    },
    "id": "O9vDJq9n8rBp"
   },
   "outputs": [],
   "source": [
    "learn.save_encoder('finetuned_encoder')"
   ]
  },
  {
   "cell_type": "code",
   "execution_count": null,
   "metadata": {
    "gradient": {
     "id": "be6d6f53-eb30-40a5-9e92-a26ec672111f",
     "kernelId": ""
    }
   },
   "outputs": [],
   "source": [
    "learn.export()"
   ]
  },
  {
   "cell_type": "markdown",
   "metadata": {},
   "source": [
    "# Generate molecules"
   ]
  },
  {
   "cell_type": "code",
   "execution_count": null,
   "metadata": {},
   "outputs": [],
   "source": [
    "from denovo_design.moleculegenerator import MolGenerator"
   ]
  },
  {
   "cell_type": "code",
   "execution_count": null,
   "metadata": {},
   "outputs": [],
   "source": [
    "mol_generator = MolGenerator(model_fname = FT/'export.pkl', cpu=False)"
   ]
  },
  {
   "cell_type": "code",
   "execution_count": null,
   "metadata": {},
   "outputs": [],
   "source": [
    "generated_mols = pd.DataFrame({'smiles':mol_generator.generate_mols(max_mols=5000,temperature=1.0,max_size=70)})"
   ]
  },
  {
   "cell_type": "code",
   "execution_count": null,
   "metadata": {},
   "outputs": [],
   "source": [
    "np."
   ]
  },
  {
   "cell_type": "code",
   "execution_count": null,
   "metadata": {},
   "outputs": [],
   "source": [
    "generated_mols['act'] = None\n",
    "generated_mols['ID'] = [f'mol_{x}' for x in range(len(generated_mols))]"
   ]
  },
  {
   "cell_type": "code",
   "execution_count": null,
   "metadata": {},
   "outputs": [],
   "source": [
    "import joblib\n",
    "ml_model = joblib.load('../FXA/regression/regressor_rf3000.pkl')"
   ]
  },
  {
   "cell_type": "code",
   "execution_count": null,
   "metadata": {},
   "outputs": [],
   "source": [
    "from sophosdata.sophos.featurizer import Fingerprinter\n",
    "from sophosdata.sophos.standardizer import SophosSanitizer, normalize_mol"
   ]
  },
  {
   "cell_type": "code",
   "execution_count": null,
   "metadata": {},
   "outputs": [],
   "source": [
    "fingerprinter = Fingerprinter('ecfp')"
   ]
  },
  {
   "cell_type": "code",
   "execution_count": null,
   "metadata": {},
   "outputs": [],
   "source": [
    "generated_mols['canonical_smiles'] = generated_mols['smiles'].apply(lambda x : MolToSmiles(normalize_mol(x)))"
   ]
  },
  {
   "cell_type": "code",
   "execution_count": null,
   "metadata": {},
   "outputs": [],
   "source": [
    "generated_mols.dropna(subset='canonical_smiles',inplace=True)"
   ]
  },
  {
   "cell_type": "code",
   "execution_count": null,
   "metadata": {},
   "outputs": [],
   "source": [
    "xtest = fingerprinter.generate_features(generated_mols['canonical_smiles'].values)"
   ]
  },
  {
   "cell_type": "code",
   "execution_count": null,
   "metadata": {},
   "outputs": [],
   "source": [
    "#generated_mols['probas'] = ml_model.predict_proba(xtest)[:, 1]\n",
    "generated_mols['preds_reg'] = ml_model.predict(xtest)"
   ]
  },
  {
   "cell_type": "code",
   "execution_count": null,
   "metadata": {},
   "outputs": [],
   "source": [
    "generated_mols.head()"
   ]
  },
  {
   "cell_type": "code",
   "execution_count": null,
   "metadata": {},
   "outputs": [],
   "source": [
    "generated_mols.to_csv('../FXA/generated_molecules.csv',index=False)"
   ]
  },
  {
   "cell_type": "code",
   "execution_count": null,
   "metadata": {},
   "outputs": [],
   "source": [
    "MolFromSmiles('O=C(NC1CCN(c2ccccc2CN2CCC[C@H]2O)CC1)c1cc(F)n(-c2ccc(F)cc2)c1')"
   ]
  },
  {
   "cell_type": "code",
   "execution_count": null,
   "metadata": {},
   "outputs": [],
   "source": []
  }
 ],
 "metadata": {
  "accelerator": "GPU",
  "colab": {
   "collapsed_sections": [
    "YF6ZSEJtDLtx",
    "lDRFzpVl8QtX",
    "UFR0BO0w9MVo",
    "aX2mgpnH_PZJ"
   ],
   "name": "Finetuning.ipynb",
   "provenance": [],
   "toc_visible": true
  },
  "kernelspec": {
   "display_name": "cheminformatics",
   "language": "python",
   "name": "cheminformatics"
  },
  "language_info": {
   "codemirror_mode": {
    "name": "ipython",
    "version": 3
   },
   "file_extension": ".py",
   "mimetype": "text/x-python",
   "name": "python",
   "nbconvert_exporter": "python",
   "pygments_lexer": "ipython3",
   "version": "3.9.12"
  }
 },
 "nbformat": 4,
 "nbformat_minor": 4
}
