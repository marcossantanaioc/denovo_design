{
 "cells": [
  {
   "cell_type": "code",
   "execution_count": null,
   "id": "5fd2f37b-446b-4a41-87ce-f111cbc1075c",
   "metadata": {},
   "outputs": [],
   "source": [
    "#|default_exp chem"
   ]
  },
  {
   "cell_type": "code",
   "execution_count": null,
   "id": "2b673d25-98f8-40e4-a44b-4a845732486c",
   "metadata": {},
   "outputs": [],
   "source": [
    "#|hide\n",
    "from nbdev.showdoc import show_doc"
   ]
  },
  {
   "cell_type": "code",
   "execution_count": null,
   "id": "ad4abdb1-9694-4031-97a6-f13cfd2f018b",
   "metadata": {},
   "outputs": [],
   "source": [
    "#|export\n",
    "from rdkit.Chem import MolFromSmiles, MolToSmiles\n",
    "from rdkit import Chem"
   ]
  },
  {
   "cell_type": "code",
   "execution_count": null,
   "id": "e7d4f832-d287-42c6-bffc-7bcd6c99755d",
   "metadata": {},
   "outputs": [],
   "source": [
    "#|export\n",
    "\n",
    "def is_valid(smiles):\n",
    "    \n",
    "    \"\"\" Check if a given SMILES is a valid structure \"\"\"\n",
    "    \n",
    "    if isinstance(smiles, str): \n",
    "        mol = MolFromSmiles(smiles)\n",
    "        if mol is not None and mol.GetNumAtoms()>0:\n",
    "            return MolToSmiles(mol)\n",
    "        \n",
    "        \n",
    "def randomize_smiles(smiles):\n",
    "    \n",
    "    \"\"\" Randomize a SMILES string \"\"\"\n",
    "    \n",
    "    return MolToSmiles(MolFromSmiles(smiles),doRandom=True,canonical=False)\n",
    "\n",
    "def smiles_augmentation(df=None,smiles_column='processed_smiles', N_rounds=2):\n",
    "    \n",
    "    \"\"\"Randomize SMILES in a pandas.DataFrame column\"\"\"\n",
    "    \n",
    "    cols = [c for c in df.columns if c != smiles_column]\n",
    "    dist_aug = {'aug_smiles' : []}\n",
    "\n",
    "\n",
    "    duplicated_df = df[cols].append([df[cols]]*(N_rounds-1),ignore_index=False)\n",
    "    \n",
    "    for i in range(df.shape[0]):      \n",
    "        for _ in range(N_rounds):\n",
    "            dist_aug['aug_smiles'].append(randomize_smiles(df.iloc[i][smiles_column]))\n",
    "            \n",
    "    assert len(dist_aug['aug_smiles']) == duplicated_df.shape[0]\n",
    "    duplicated_df.sort_index(inplace=True)\n",
    "    duplicated_df.insert(loc=1, column=smiles_column, value=dist_aug['aug_smiles'])\n",
    "\n",
    "    \n",
    "    return duplicated_df.reset_index(drop=True)"
   ]
  },
  {
   "cell_type": "code",
   "execution_count": null,
   "id": "92a9b1c8-bf8e-4dcf-99a0-918d8c36fdc4",
   "metadata": {},
   "outputs": [],
   "source": [
    "show_doc(is_valid)"
   ]
  },
  {
   "cell_type": "code",
   "execution_count": null,
   "id": "900724dc-0aaa-44a2-a1da-8d13ad648d6a",
   "metadata": {},
   "outputs": [],
   "source": [
    "show_doc(randomize_smiles)"
   ]
  },
  {
   "cell_type": "code",
   "execution_count": null,
   "id": "ff7fc5e1-17e5-4fb0-ae17-39e5fcfe1ec1",
   "metadata": {},
   "outputs": [],
   "source": [
    "show_doc(smiles_augmentation)"
   ]
  },
  {
   "cell_type": "code",
   "execution_count": null,
   "id": "8738fd2b-04d1-4647-8f96-5332bddb1463",
   "metadata": {},
   "outputs": [],
   "source": [
    "#| hide\n",
    "from nbdev import nbdev_export\n",
    "nbdev_export()"
   ]
  }
 ],
 "metadata": {
  "kernelspec": {
   "display_name": "cheminformatics",
   "language": "python",
   "name": "cheminformatics"
  }
 },
 "nbformat": 4,
 "nbformat_minor": 5
}
