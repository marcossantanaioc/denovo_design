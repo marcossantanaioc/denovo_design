{
 "cells": [
  {
   "cell_type": "code",
   "execution_count": null,
   "id": "d2ead87e-ad06-451d-bba8-3fcf02cfad10",
   "metadata": {},
   "outputs": [],
   "source": [
    "#| default_exp generative_basics"
   ]
  },
  {
   "cell_type": "code",
   "execution_count": null,
   "id": "e677f801-f49a-46ad-8b84-4e9e57008887",
   "metadata": {},
   "outputs": [],
   "source": [
    "#|hide\n",
    "%reload_ext autoreload\n",
    "%autoreload 2"
   ]
  },
  {
   "cell_type": "code",
   "execution_count": null,
   "id": "5cfde252-32ac-4b34-91f0-92aa7b704694",
   "metadata": {},
   "outputs": [],
   "source": [
    "#|hide\n",
    "from nbdev.showdoc import show_doc"
   ]
  },
  {
   "cell_type": "code",
   "execution_count": null,
   "id": "a17138e5-ed73-43fe-857b-7f2000f64d28",
   "metadata": {},
   "outputs": [],
   "source": [
    "#|export\n",
    "from fastai.text.all import *\n",
    "from fastinference.inference import *"
   ]
  },
  {
   "cell_type": "code",
   "execution_count": null,
   "id": "2af17372-8af8-4c37-b5b4-7e95183b7490",
   "metadata": {},
   "outputs": [],
   "source": [
    "#|export\n",
    "class MolSampler():\n",
    "    \"\"\"\n",
    "    Base class for molecule generation\n",
    "    \"\"\"\n",
    "    def __init__(self,model_fname:str,text:str='',cpu:bool=False):      \n",
    "        \n",
    "        self.model = load_learner(model_fname, cpu=cpu)\n",
    "        self.text = text\n",
    "    \n",
    "\n",
    "    def base_sampler(self, max_size:int=100, temperature:float=1.0, **kwargs):\n",
    "        \n",
    "        \"\"\"Base sampler to generate one SMILES using a chemistry model trained with fastai\n",
    "        \n",
    "        \n",
    "        Arguments:\n",
    "        \n",
    "        temperature : float\n",
    "            Sampling temperature (default = 1.0)\n",
    "        \n",
    "        max_size : int\n",
    "            Maximum size of the SMILES strings (default = 100)\n",
    "        \n",
    "        \n",
    "        Returns:\n",
    "        \n",
    "        decoded : str\n",
    "            A string representing a SMILES of a generated molecule\n",
    "        \n",
    "        \"\"\"\n",
    "        \n",
    "        act = getattr(self.model.loss_func, 'activation', noop)\n",
    "        self.model.model.reset()    # Reset the model\n",
    "        stop_index = self.model.dls.train.vocab.index(BOS)        # Define the stop token\n",
    "        idxs = self.model.dls.test_dl([self.text]).items[0].to(x.model.dls.device)\n",
    "        nums = self.model.dls.train_ds.numericalize     # Numericalize (used to decode)\n",
    "        accum_idxs = []                   # Store predicted tokens\n",
    "        self.model.model.eval()\n",
    "\n",
    "        for _ in range(max_size):\n",
    "            with torch.no_grad(): preds = self.model.model(idxs[None])[0][-1]\n",
    "\n",
    "            res = act(preds)\n",
    "            if temperature != 1.: res.pow_(1 / temperature)\n",
    "            idx = torch.multinomial(res, 1).item()\n",
    "            if idx != stop_index:\n",
    "                accum_idxs.append(idx)\n",
    "                idxs = TensorText(idxs.new_tensor([idx]))\n",
    "            else:\n",
    "                break\n",
    "        decoded = ''.join([nums.vocab[o] for o in accum_idxs if nums.vocab[o] not in [BOS, PAD]])  # Decode predicted tokens\n",
    "        return decoded\n",
    "    \n",
    "    def generate_mols(self, max_size, max_mols, temperature,**kwargs):\n",
    "        '''Generate molecules using a base sampler'''\n",
    "\n",
    "        return [self.base_sampler(max_size=max_size, temperature=temperature) for i in range(max_mols)]"
   ]
  },
  {
   "cell_type": "code",
   "execution_count": null,
   "id": "a766bfe7-f1ab-4e28-af18-ec1d6fff2127",
   "metadata": {},
   "outputs": [
    {
     "data": {
      "text/markdown": [
       "---\n",
       "\n",
       "### MolSampler\n",
       "\n",
       ">      MolSampler (model_fname:str, text:str='', cpu:bool=False)\n",
       "\n",
       "Base class for molecule generation"
      ],
      "text/plain": [
       "<nbdev.showdoc.BasicMarkdownRenderer>"
      ]
     },
     "execution_count": null,
     "metadata": {},
     "output_type": "execute_result"
    }
   ],
   "source": [
    "show_doc(MolSampler)"
   ]
  },
  {
   "cell_type": "code",
   "execution_count": null,
   "id": "f1b5dba8-b215-4a92-8eb3-3f9fffa26131",
   "metadata": {},
   "outputs": [
    {
     "data": {
      "text/markdown": [
       "---\n",
       "\n",
       "#### MolSampler.base_sampler\n",
       "\n",
       ">      MolSampler.base_sampler (max_size:int=100, temperature:float=1.0,\n",
       ">                               **kwargs)\n",
       "\n",
       "Base sampler to generate one SMILES using a chemistry model trained with fastai"
      ],
      "text/plain": [
       "<nbdev.showdoc.BasicMarkdownRenderer>"
      ]
     },
     "execution_count": null,
     "metadata": {},
     "output_type": "execute_result"
    }
   ],
   "source": [
    "show_doc(MolSampler.base_sampler)"
   ]
  },
  {
   "cell_type": "code",
   "execution_count": null,
   "id": "58d7a8de-fe44-418a-ace1-ca29988fc742",
   "metadata": {},
   "outputs": [
    {
     "data": {
      "text/markdown": [
       "---\n",
       "\n",
       "#### MolSampler.generate_mols\n",
       "\n",
       ">      MolSampler.generate_mols (max_size, max_mols, temperature, **kwargs)\n",
       "\n",
       "Generate molecules using a base sampler"
      ],
      "text/plain": [
       "<nbdev.showdoc.BasicMarkdownRenderer>"
      ]
     },
     "execution_count": null,
     "metadata": {},
     "output_type": "execute_result"
    }
   ],
   "source": [
    "show_doc(MolSampler.generate_mols)"
   ]
  },
  {
   "cell_type": "code",
   "execution_count": null,
   "id": "d5273b6e-5e4c-4874-b1bc-dd6badba1414",
   "metadata": {},
   "outputs": [],
   "source": [
    "#| hide\n",
    "from nbdev import nbdev_export\n",
    "nbdev_export()"
   ]
  },
  {
   "cell_type": "code",
   "execution_count": null,
   "id": "08d3cfcb-0338-4c0b-86f9-8426b6f985cb",
   "metadata": {},
   "outputs": [],
   "source": []
  }
 ],
 "metadata": {
  "kernelspec": {
   "display_name": "cheminformatics",
   "language": "python",
   "name": "cheminformatics"
  },
  "language_info": {
   "name": ""
  }
 },
 "nbformat": 4,
 "nbformat_minor": 5
}
