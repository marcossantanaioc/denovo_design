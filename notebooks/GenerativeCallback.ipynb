{
 "cells": [
  {
   "cell_type": "code",
   "execution_count": null,
   "id": "ead6d389-3dea-468c-ab96-34865813c71e",
   "metadata": {},
   "outputs": [],
   "source": [
    "#|default_exp generative_callback"
   ]
  },
  {
   "cell_type": "code",
   "execution_count": null,
   "id": "4a65919e-2171-43e8-85a3-5201dcf9d80b",
   "metadata": {},
   "outputs": [],
   "source": [
    "#|hide\n",
    "%reload_ext autoreload\n",
    "%autoreload 2"
   ]
  },
  {
   "cell_type": "code",
   "execution_count": null,
   "id": "2a92a755-a876-4fc0-a7e8-670a1f1cb490",
   "metadata": {},
   "outputs": [],
   "source": [
    "#|hide\n",
    "from nbdev.showdoc import show_doc"
   ]
  },
  {
   "cell_type": "code",
   "execution_count": null,
   "id": "c0306134-dc69-4f9d-99db-2a4d858c5459",
   "metadata": {},
   "outputs": [],
   "source": [
    "from fastai.callback.core import Callback"
   ]
  },
  {
   "cell_type": "code",
   "execution_count": null,
   "id": "f19a6386-b199-4f05-9c62-cc7a21441c54",
   "metadata": {},
   "outputs": [
    {
     "name": "stderr",
     "output_type": "stream",
     "text": [
      "2022-08-15 23:46:17.385419: W tensorflow/stream_executor/platform/default/dso_loader.cc:64] Could not load dynamic library 'libcudart.so.11.0'; dlerror: libcudart.so.11.0: cannot open shared object file: No such file or directory; LD_LIBRARY_PATH: /usr/local/nvidia/lib:/usr/local/nvidia/lib64\n",
      "2022-08-15 23:46:17.385474: I tensorflow/stream_executor/cuda/cudart_stub.cc:29] Ignore above cudart dlerror if you do not have a GPU set up on your machine.\n"
     ]
    }
   ],
   "source": [
    "#|export\n",
    "from typing import List\n",
    "from fastinference.inference import *\n",
    "from denovo_design.generative_basics import *\n",
    "from fcd_torch import *\n",
    "from random import choices\n",
    "from guacamol.distribution_learning_benchmark import ValidityBenchmark, UniquenessBenchmark, NoveltyBenchmark\n",
    "from guacamol.frechet_benchmark import FrechetBenchmark\n",
    "from guacamol.distribution_matching_generator import DistributionMatchingGenerator"
   ]
  },
  {
   "cell_type": "code",
   "execution_count": null,
   "id": "6ca380c1-314d-4920-bdb9-f6caf31281bc",
   "metadata": {},
   "outputs": [],
   "source": [
    "#|export    \n",
    "class MockGenerator(DistributionMatchingGenerator):\n",
    "    \"\"\"\n",
    "    Mock generator that returns pre-defined molecules,\n",
    "    possibly split in several calls\n",
    "    \"\"\"\n",
    "\n",
    "    def __init__(self, molecules) -> None:\n",
    "        self.molecules = molecules\n",
    "        self.cursor = 0\n",
    "\n",
    "    def generate(self, number_samples: int):\n",
    "        end = self.cursor + number_samples\n",
    "\n",
    "        sampled_molecules = self.molecules[self.cursor:end]\n",
    "        self.cursor = end\n",
    "        return sampled_molecules"
   ]
  },
  {
   "cell_type": "code",
   "execution_count": null,
   "id": "10a70fdb-602e-4951-aeb6-7288655a3eb6",
   "metadata": {},
   "outputs": [],
   "source": [
    "#|export\n",
    "class GenerativeCallback(Callback):\n",
    "    \n",
    "    \"\"\"\n",
    "    \n",
    "    A callback to generate molecules while training a model. \n",
    "\n",
    "    \n",
    "    \"\"\"\n",
    "\n",
    "    def __init__(self, reference_mols:List=[], text:str='', max_size:int=100, temperature:float=0.7, max_mols:int=100):\n",
    "        \n",
    "        \"\"\"\n",
    "        Arguments:\n",
    "        \n",
    "            reference_mols : list\n",
    "                A list of reference SMILES to compute validation metrics\n",
    "                \n",
    "            text : str\n",
    "                Seed string (default = '')\n",
    "                \n",
    "            max_size : int\n",
    "                Maximum size of generate SMILES \n",
    "                \n",
    "            temperature : float\n",
    "                Sampling temperature (default = 1.0)\n",
    "                \n",
    "            max_mols : int\n",
    "                Number of molecules to generate\n",
    "                \n",
    "        Returns:\n",
    "        \n",
    "            decoded : list\n",
    "                A list of generated SMILES.\n",
    "        \n",
    "        \"\"\"\n",
    "        \n",
    "        super().__init__()\n",
    "        self.reference_mols = reference_mols\n",
    "        self.text = text\n",
    "        self.max_size = max_size\n",
    "        self.temperature = temperature\n",
    "        self.max_mols = max_mols\n",
    "        self.smiles = []\n",
    "        self.valid_mols = []\n",
    "        \n",
    "        # Define the benchmark before training because it needs to calculate the mean and covariance for ref mols\n",
    "        self.fcd_benchmark = FrechetBenchmark(training_set=reference_mols, sample_size=len(reference_mols))\n",
    " \n",
    "    def sampling(self):\n",
    "\n",
    "        self.model.reset()    # Reset the model\n",
    "\n",
    "        nums = self.dls.numericalize\n",
    "        stop_index = self.dls.train.vocab.index(BOS)\n",
    "\n",
    "        idxs = idxs_all = self.dls.test_dl([self.text]).items[0].to(self.dls.device)\n",
    "        for _ in range(self.max_size):\n",
    "            preds = self.get_preds(dl=[(idxs[None],)], decoded_loss=False)\n",
    "\n",
    "            res = tensor(preds[0][0][-1])\n",
    "            #print(res.shape)\n",
    "            if self.temperature != 1.: res.pow_(1 / self.temperature)\n",
    "            idx = torch.multinomial(res, 1).item()\n",
    "            if idx != stop_index:\n",
    "\n",
    "                idxs = idxs_all = torch.cat([idxs_all, idxs.new([idx])])\n",
    "            else:\n",
    "                break\n",
    "        decoded = ''.join([nums.vocab[o] for o in idxs_all if nums.vocab[o] not in [BOS, PAD]])  # Decode predicted tokens\n",
    "        return decoded\n",
    "    \n",
    "\n",
    "    def _validity_score(self):\n",
    "        gen = MockGenerator(self.smiles)\n",
    "        val = ValidityBenchmark(number_samples=len(gen.molecules)).assess_model(gen).score        \n",
    "        return val\n",
    "    \n",
    "    def _fcd_score(self):\n",
    "        gen = MockGenerator(self.smiles)\n",
    "        fcd_score = self.fcd_benchmark.assess_model(gen).score\n",
    "        return fcd_score\n",
    "\n",
    "    def _uniqueness_score(self): \n",
    "        gen = MockGenerator(self.smiles)\n",
    "        unq = UniquenessBenchmark(number_samples=len(gen.molecules)).assess_model(gen).score\n",
    "        return unq\n",
    "\n",
    "    def _novelty_score(self):\n",
    "        gen = MockGenerator(self.smiles)\n",
    "        nov = NoveltyBenchmark(number_samples=len(gen.molecules),training_set=self.reference_mols).assess_model(gen).score\n",
    "        return nov       \n",
    "\n",
    "    def before_epoch(self):\n",
    "        self.val, self.unq, self.nov = 0, 0, 0\n",
    "        self.smiles = []\n",
    "        self.valid_mols = []\n",
    "\n",
    "    def before_validate(self, **kwargs):\n",
    "\n",
    "        self.smiles += [self.sampling() for _ in range(self.max_mols)]\n",
    "        print(self.smiles[:5])"
   ]
  },
  {
   "cell_type": "code",
   "execution_count": null,
   "id": "947f241e-002a-4d30-876c-9089fc9ee967",
   "metadata": {},
   "outputs": [
    {
     "data": {
      "text/markdown": [
       "---\n",
       "\n",
       "### GenerativeCallback\n",
       "\n",
       ">      GenerativeCallback (reference_mols:List=[], text:str='',\n",
       ">                          max_size:int=100, temperature:float=0.7,\n",
       ">                          max_mols:int=100)\n",
       "\n",
       "A callback to generate molecules while training a model. "
      ],
      "text/plain": [
       "<nbdev.showdoc.BasicMarkdownRenderer>"
      ]
     },
     "execution_count": null,
     "metadata": {},
     "output_type": "execute_result"
    }
   ],
   "source": [
    "show_doc(GenerativeCallback)"
   ]
  },
  {
   "cell_type": "code",
   "execution_count": null,
   "id": "1c74f74b-ac5b-4ac5-baad-4c63cf102f98",
   "metadata": {},
   "outputs": [],
   "source": [
    "#| hide\n",
    "from nbdev import nbdev_export\n",
    "nbdev_export()"
   ]
  }
 ],
 "metadata": {
  "kernelspec": {
   "display_name": "cheminformatics",
   "language": "python",
   "name": "cheminformatics"
  }
 },
 "nbformat": 4,
 "nbformat_minor": 5
}
