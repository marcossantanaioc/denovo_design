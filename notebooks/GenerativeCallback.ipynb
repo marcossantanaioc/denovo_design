{
 "cells": [
  {
   "cell_type": "code",
   "execution_count": 53,
   "id": "ead6d389-3dea-468c-ab96-34865813c71e",
   "metadata": {},
   "outputs": [],
   "source": [
    "#|default_exp generative_callback"
   ]
  },
  {
   "cell_type": "code",
   "execution_count": 54,
   "id": "4a65919e-2171-43e8-85a3-5201dcf9d80b",
   "metadata": {},
   "outputs": [],
   "source": [
    "#|hide\n",
    "%reload_ext autoreload\n",
    "%autoreload 2"
   ]
  },
  {
   "cell_type": "code",
   "execution_count": 55,
   "id": "2a92a755-a876-4fc0-a7e8-670a1f1cb490",
   "metadata": {},
   "outputs": [],
   "source": [
    "#|hide\n",
    "from nbdev.showdoc import show_doc"
   ]
  },
  {
   "cell_type": "code",
   "execution_count": 56,
   "id": "f19a6386-b199-4f05-9c62-cc7a21441c54",
   "metadata": {},
   "outputs": [],
   "source": [
    "#|export\n",
    "from fastai.callback.core import Callback\n",
    "from fastai.text.all import *\n",
    "from typing import List\n",
    "from fastinference.inference import *\n",
    "from denovo_design.generative_basics import *\n",
    "from denovo_design.chem import is_valid\n",
    "from fcd_torch import *\n",
    "from random import choices\n",
    "from guacamol.distribution_learning_benchmark import ValidityBenchmark, UniquenessBenchmark, NoveltyBenchmark\n",
    "from guacamol.frechet_benchmark import FrechetBenchmark\n",
    "from guacamol.distribution_matching_generator import DistributionMatchingGenerator"
   ]
  },
  {
   "cell_type": "code",
   "execution_count": 57,
   "id": "6ca380c1-314d-4920-bdb9-f6caf31281bc",
   "metadata": {},
   "outputs": [],
   "source": [
    "#|export    \n",
    "class MockGenerator(DistributionMatchingGenerator):\n",
    "    \"\"\"\n",
    "    Mock generator that returns pre-defined molecules,\n",
    "    possibly split in several calls\n",
    "    \"\"\"\n",
    "\n",
    "    def __init__(self, molecules) -> None:\n",
    "        self.molecules = molecules\n",
    "        self.cursor = 0\n",
    "\n",
    "    def generate(self, number_samples: int):\n",
    "        end = self.cursor + number_samples\n",
    "\n",
    "        sampled_molecules = self.molecules[self.cursor:end]\n",
    "        self.cursor = end\n",
    "        return sampled_molecules"
   ]
  },
  {
   "cell_type": "code",
   "execution_count": 58,
   "id": "547dbf4e-696c-4e7e-8b40-af84809b05a6",
   "metadata": {},
   "outputs": [],
   "source": [
    "#|export\n",
    "class SMILESLogger:\n",
    "    def __init__(self, fname:str='generated_molecules.smi',mode:str='a+'):\n",
    "        self.fname = fname\n",
    "        self.mode = mode\n",
    "        self.output_file = open(fname, mode, buffering=1)\n",
    "            \n",
    "    def write(self, text:str=''):\n",
    "        self.output_file.write(text + '\\n')\n",
    "        \n",
    "    def close(self):\n",
    "        self.output_file.close()"
   ]
  },
  {
   "cell_type": "code",
   "execution_count": 73,
   "id": "10a70fdb-602e-4951-aeb6-7288655a3eb6",
   "metadata": {},
   "outputs": [],
   "source": [
    "#|export\n",
    "class GenerativeCallback(Callback):\n",
    "    \n",
    "    \"\"\"\n",
    "    \n",
    "    A callback to generate molecules while training a model. \n",
    "\n",
    "    \n",
    "    \"\"\"\n",
    "\n",
    "    def __init__(self, reference_mols:List=[], text:str='', max_size:int=100, temperature:float=0.7, max_mols:int=100, output_file:str='generated_mols.smi'):\n",
    "        \n",
    "        \"\"\"\n",
    "        Arguments:\n",
    "        \n",
    "            reference_mols : list\n",
    "                A list of reference SMILES to compute validation metrics\n",
    "                \n",
    "            text : str\n",
    "                Seed string (default = '')\n",
    "                \n",
    "            max_size : int\n",
    "                Maximum size of generate SMILES \n",
    "                \n",
    "            temperature : float\n",
    "                Sampling temperature (default = 1.0)\n",
    "                \n",
    "            max_mols : int\n",
    "                Number of molecules to generate\n",
    "                \n",
    "            output_file : str\n",
    "                A text file where SMILES will be saved after each epoch.\n",
    "                \n",
    "        Returns:\n",
    "        \n",
    "            decoded : list\n",
    "                A list of generated SMILES.\n",
    "        \n",
    "        \"\"\"\n",
    "        \n",
    "        super().__init__()\n",
    "        self.reference_mols = reference_mols\n",
    "        self.text = text\n",
    "        self.max_size = max_size\n",
    "        self.temperature = temperature\n",
    "        self.max_mols = max_mols\n",
    "        self.smiles = []\n",
    "        self.valid_mols = []\n",
    "        self.epoch_track = 0\n",
    "        self.output_file = output_file\n",
    "        \n",
    "        # Define the benchmark before training because it needs to calculate the mean and covariance for ref mols\n",
    "        self.fcd_benchmark = FrechetBenchmark(training_set=reference_mols, sample_size=len(reference_mols))\n",
    "                    \n",
    " \n",
    "    def sampling(self):\n",
    "\n",
    "        self.model.reset()    # Reset the model\n",
    "\n",
    "        nums = self.dls.numericalize\n",
    "        stop_index = self.dls.train.vocab.index('xxbos')\n",
    "\n",
    "        idxs = idxs_all = self.dls.test_dl([self.text]).items[0].to(self.dls.device)\n",
    "        for _ in range(self.max_size):\n",
    "            preds = self.get_preds(dl=[(idxs[None],)], decoded_loss=False)\n",
    "\n",
    "            res = torch.tensor(preds[0][0][-1])\n",
    "            if self.temperature != 1.: res.pow_(1 / self.temperature)\n",
    "            idx = torch.multinomial(res, 1).item()\n",
    "            if idx != stop_index:\n",
    "\n",
    "                idxs = idxs_all = torch.cat([idxs_all, idxs.new([idx])])\n",
    "            else:\n",
    "                break\n",
    "        decoded = ''.join([nums.vocab[o] for o in idxs_all if nums.vocab[o] not in [BOS, PAD]])  # Decode predicted tokens\n",
    "        return decoded\n",
    "    \n",
    "\n",
    "    def _validity_score(self):\n",
    "        gen = MockGenerator(self.smiles)\n",
    "        val = ValidityBenchmark(number_samples=len(gen.molecules)).assess_model(gen).score        \n",
    "        return val\n",
    "    \n",
    "    def _fcd_score(self):\n",
    "        gen = MockGenerator(self.smiles)\n",
    "        fcd_score = self.fcd_benchmark.assess_model(gen).score\n",
    "        return fcd_score\n",
    "\n",
    "    def _uniqueness_score(self): \n",
    "        gen = MockGenerator(self.smiles)\n",
    "        unq = UniquenessBenchmark(number_samples=len(gen.molecules)).assess_model(gen).score\n",
    "        return unq\n",
    "\n",
    "    def _novelty_score(self):\n",
    "        gen = MockGenerator(self.smiles)\n",
    "        nov = NoveltyBenchmark(number_samples=len(gen.molecules),training_set=self.reference_mols).assess_model(gen).score\n",
    "        return nov\n",
    "    \n",
    "    def before_fit(self):\n",
    "        self.logger = SMILESLogger(self.output_file)\n",
    "        \n",
    "    def before_epoch(self):\n",
    "        self.val, self.unq, self.nov = 0, 0, 0\n",
    "        self.smiles = []\n",
    "        self.valid_mols = []\n",
    "        \n",
    "    def after_epoch(self):\n",
    "        self.epoch_track += 1\n",
    "\n",
    "    def before_validate(self, **kwargs):\n",
    "        self.smiles += [self.sampling() for _ in range(self.max_mols)]\n",
    "        _valid_smiles = list(filter(is_valid, self.smiles))\n",
    "        for smi in _valid_smiles:\n",
    "            self.logger.write(f'{self.epoch_track},{smi}')\n",
    "        \n",
    "    def after_fit(self, **kwargs):\n",
    "        self.logger.close()"
   ]
  },
  {
   "cell_type": "code",
   "execution_count": 74,
   "id": "947f241e-002a-4d30-876c-9089fc9ee967",
   "metadata": {},
   "outputs": [
    {
     "data": {
      "text/markdown": [
       "---\n",
       "\n",
       "### GenerativeCallback\n",
       "\n",
       ">      GenerativeCallback (reference_mols:List=[], text:str='',\n",
       ">                          max_size:int=100, temperature:float=0.7,\n",
       ">                          max_mols:int=100,\n",
       ">                          output_file:str='generated_mols.smi')\n",
       "\n",
       "A callback to generate molecules while training a model. "
      ],
      "text/plain": [
       "<nbdev.showdoc.BasicMarkdownRenderer>"
      ]
     },
     "execution_count": 74,
     "metadata": {},
     "output_type": "execute_result"
    }
   ],
   "source": [
    "show_doc(GenerativeCallback)"
   ]
  },
  {
   "cell_type": "code",
   "execution_count": 75,
   "id": "1c74f74b-ac5b-4ac5-baad-4c63cf102f98",
   "metadata": {},
   "outputs": [],
   "source": [
    "#| hide\n",
    "from nbdev import nbdev_export\n",
    "nbdev_export()"
   ]
  }
 ],
 "metadata": {
  "kernelspec": {
   "display_name": "cheminformatics",
   "language": "python",
   "name": "cheminformatics"
  },
  "language_info": {
   "codemirror_mode": {
    "name": "ipython",
    "version": 3
   },
   "file_extension": ".py",
   "mimetype": "text/x-python",
   "name": "python",
   "nbconvert_exporter": "python",
   "pygments_lexer": "ipython3",
   "version": "3.9.12"
  }
 },
 "nbformat": 4,
 "nbformat_minor": 5
}
