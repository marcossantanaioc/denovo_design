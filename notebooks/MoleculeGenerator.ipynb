{
 "cells": [
  {
   "cell_type": "code",
   "execution_count": null,
   "id": "ead6d389-3dea-468c-ab96-34865813c71e",
   "metadata": {},
   "outputs": [],
   "source": [
    "#|default_exp moleculegenerator"
   ]
  },
  {
   "cell_type": "code",
   "execution_count": null,
   "id": "4a65919e-2171-43e8-85a3-5201dcf9d80b",
   "metadata": {},
   "outputs": [],
   "source": [
    "#|hide\n",
    "%reload_ext autoreload\n",
    "%autoreload 2"
   ]
  },
  {
   "cell_type": "code",
   "execution_count": null,
   "id": "6a4946f4-46ec-45cf-a63e-9cc99bf6b5c1",
   "metadata": {},
   "outputs": [],
   "source": [
    "#|hide\n",
    "from nbdev.showdoc import show_doc"
   ]
  },
  {
   "cell_type": "code",
   "execution_count": null,
   "id": "10a70fdb-602e-4951-aeb6-7288655a3eb6",
   "metadata": {},
   "outputs": [],
   "source": [
    "#|export\n",
    "from denovo_design.generative_basics import *\n",
    "from rdkit.Chem import MolFromSmiles, MolToSmiles\n",
    "from tqdm.notebook import tqdm\n",
    "\n",
    "from typing import List, Tuple, Collection\n",
    "\n",
    "from time import sleep\n",
    "\n",
    "from denovo_design.chem import is_valid"
   ]
  },
  {
   "cell_type": "code",
   "execution_count": null,
   "id": "40f4300d-12d2-4562-83ac-07c2cf6282a2",
   "metadata": {},
   "outputs": [],
   "source": [
    "#|export\n",
    "class MolGenerator(MolSampler):\n",
    "    \"\"\"Molecule generator based on ULMFIT. Given a trained molecule model (e.g. LSTM), generates molecules starting from a seed text. \n",
    "\n",
    "    \n",
    "    \"\"\"\n",
    "    \n",
    "    def __init__(self, model_fname, text='', cpu = False, **kwargs):\n",
    "        \n",
    "        \"\"\"\n",
    "        \n",
    "        Arguments:\n",
    "        \n",
    "        model_fname : Learner \n",
    "            Path to a trained ULMFIT model \n",
    "        \n",
    "        text : str \n",
    "            Seed text used to start the generative process. At the moment only an empty string is available (\"\") \n",
    "        \n",
    "        \n",
    "        cpu : bool \n",
    "            If True, uses cpu to make predictions\n",
    "            \"\"\"\n",
    "                   \n",
    "\n",
    "        super(MolGenerator, self).__init__(model_fname, text, cpu)\n",
    "        self.model_fname = model_fname\n",
    "        self.text = text\n",
    "        self.cpu = cpu\n",
    "\n",
    "    \n",
    "    def generate_mols(self, max_size=100, max_mols=5, temperature=1.0):\n",
    "        \"\"\"Generate molecules using a base sampler\"\"\"\n",
    "\n",
    "        generated_mols = set()\n",
    "        \n",
    "        \n",
    "        while len(generated_mols) < max_mols:\n",
    "            \n",
    "            \n",
    "            mol = is_valid(self.base_sampler(max_size=max_size, temperature=temperature))\n",
    "            \n",
    "            if mol != None:\n",
    "                generated_mols.add(mol)\n",
    "                print(f'{len(generated_mols)}/{max_mols}',end='\\r')\n",
    " \n",
    "        return tuple(generated_mols)\n",
    "    \n",
    "\n",
    "    def predict(self, mols:List=[], canonical:bool=True, thresh:float=0.5, **kwargs):\n",
    "        return NotImplemented"
   ]
  },
  {
   "cell_type": "code",
   "execution_count": null,
   "id": "4857652f-45c0-453f-98f7-07b223ce3959",
   "metadata": {},
   "outputs": [
    {
     "data": {
      "text/markdown": [
       "---\n",
       "\n",
       "### MolGenerator\n",
       "\n",
       ">      MolGenerator (model_fname, text='', cpu=False, **kwargs)\n",
       "\n",
       "Molecule generator based on ULMFIT. Given a trained molecule model (e.g. LSTM), generates molecules starting from a seed text. "
      ],
      "text/plain": [
       "<nbdev.showdoc.BasicMarkdownRenderer>"
      ]
     },
     "execution_count": null,
     "metadata": {},
     "output_type": "execute_result"
    }
   ],
   "source": [
    "show_doc(MolGenerator)"
   ]
  },
  {
   "cell_type": "code",
   "execution_count": null,
   "id": "207feec5-e46f-4945-9f3b-afb15bcc9850",
   "metadata": {},
   "outputs": [
    {
     "data": {
      "text/markdown": [
       "---\n",
       "\n",
       "#### MolGenerator.generate_mols\n",
       "\n",
       ">      MolGenerator.generate_mols (max_size=100, max_mols=5, temperature=1.0)\n",
       "\n",
       "Generate molecules using a base sampler"
      ],
      "text/plain": [
       "<nbdev.showdoc.BasicMarkdownRenderer>"
      ]
     },
     "execution_count": null,
     "metadata": {},
     "output_type": "execute_result"
    }
   ],
   "source": [
    "show_doc(MolGenerator.generate_mols)"
   ]
  },
  {
   "cell_type": "code",
   "execution_count": null,
   "id": "1c74f74b-ac5b-4ac5-baad-4c63cf102f98",
   "metadata": {},
   "outputs": [],
   "source": [
    "#| hide\n",
    "from nbdev import nbdev_export\n",
    "nbdev_export()"
   ]
  }
 ],
 "metadata": {
  "kernelspec": {
   "display_name": "cheminformatics",
   "language": "python",
   "name": "cheminformatics"
  }
 },
 "nbformat": 4,
 "nbformat_minor": 5
}
