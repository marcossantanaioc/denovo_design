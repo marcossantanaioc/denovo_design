{
 "cells": [
  {
   "cell_type": "code",
   "execution_count": null,
   "id": "88a46f3d-092a-4d00-bc01-472c9b6de921",
   "metadata": {},
   "outputs": [],
   "source": [
    "#|default_exp tokenizer"
   ]
  },
  {
   "cell_type": "code",
   "execution_count": null,
   "id": "19e3a401-575f-4ffe-8858-869b3b5598f0",
   "metadata": {},
   "outputs": [],
   "source": [
    "#|hide\n",
    "%reload_ext autoreload\n",
    "%autoreload 2"
   ]
  },
  {
   "cell_type": "code",
   "execution_count": null,
   "id": "08e981f5-d918-45f1-a61f-462c1a2108fb",
   "metadata": {},
   "outputs": [],
   "source": [
    "#|hide\n",
    "from nbdev.showdoc import show_doc"
   ]
  },
  {
   "cell_type": "code",
   "execution_count": null,
   "id": "c762d88f-c62e-4072-86f6-eee8ef0f315b",
   "metadata": {},
   "outputs": [],
   "source": [
    "#|export\n",
    "import re\n",
    "\n",
    "class MolTokenizer():\n",
    "    \n",
    "    \"\"\"Converts SMILES into tokenized versions to train a language model.\"\"\"\n",
    "\n",
    "    def tokenize_mols(self, t):\n",
    "        BOS = 'xxbos'\n",
    "        pat = '(\\[.*?\\])' # Find special enviroments (e.g., [CH],[NH] etc)\n",
    "        tokens = []\n",
    "        t = t.replace('Br','L').replace('Cl','X') # Replace halogens\n",
    "        atom_list = re.split(pat,t)\n",
    "        for s in atom_list:\n",
    "            if s.startswith('['):\n",
    "                tokens.append(s)\n",
    "            else:\n",
    "                tokens += [x for x in list(s)]\n",
    "        tokens = [x.replace('L','Br').replace('X','Cl') for x in tokens] # Decode halogens\n",
    "        return [BOS] + tokens\n",
    "\n",
    "    def __call__(self, items): return (self.tokenize_mols(t) for t in items)"
   ]
  },
  {
   "cell_type": "code",
   "execution_count": null,
   "id": "10896215-ff8e-4409-bfea-e88061e41374",
   "metadata": {},
   "outputs": [
    {
     "data": {
      "text/markdown": [
       "---\n",
       "\n",
       "### MolTokenizer\n",
       "\n",
       ">      MolTokenizer ()\n",
       "\n",
       "Converts SMILES into tokenized versions to train a language model."
      ],
      "text/plain": [
       "<nbdev.showdoc.BasicMarkdownRenderer>"
      ]
     },
     "execution_count": null,
     "metadata": {},
     "output_type": "execute_result"
    }
   ],
   "source": [
    "show_doc(MolTokenizer)"
   ]
  },
  {
   "cell_type": "code",
   "execution_count": null,
   "id": "94ea9b2e-d14f-4050-86c4-1b255507c6c3",
   "metadata": {},
   "outputs": [],
   "source": [
    "#| hide\n",
    "from nbdev import nbdev_export\n",
    "nbdev_export()"
   ]
  },
  {
   "cell_type": "code",
   "execution_count": null,
   "id": "d04d3851-3aad-432e-92d8-d4dfec570fbe",
   "metadata": {},
   "outputs": [],
   "source": []
  }
 ],
 "metadata": {
  "kernelspec": {
   "display_name": "cheminformatics",
   "language": "python",
   "name": "cheminformatics"
  }
 },
 "nbformat": 4,
 "nbformat_minor": 5
}
